{
  "nbformat": 4,
  "nbformat_minor": 0,
  "metadata": {
    "colab": {
      "name": "ch5_code01_pa23_ipynb의 사본",
      "provenance": [],
      "collapsed_sections": [],
      "include_colab_link": true
    },
    "kernelspec": {
      "display_name": "Python 3",
      "language": "python",
      "name": "python3"
    },
    "language_info": {
      "codemirror_mode": {
        "name": "ipython",
        "version": 3
      },
      "file_extension": ".py",
      "mimetype": "text/x-python",
      "name": "python",
      "nbconvert_exporter": "python",
      "pygments_lexer": "ipython3",
      "version": "3.7.5"
    }
  },
  "cells": [
    {
      "cell_type": "markdown",
      "metadata": {
        "id": "view-in-github",
        "colab_type": "text"
      },
      "source": [
        "<a href=\"https://colab.research.google.com/github/suyangegrong/PA23/blob/main/ch5/ch5_code01_pa23_ipynb%EC%9D%98_%EC%82%AC%EB%B3%B8.ipynb\" target=\"_parent\"><img src=\"https://colab.research.google.com/assets/colab-badge.svg\" alt=\"Open In Colab\"/></a>"
      ]
    },
    {
      "cell_type": "markdown",
      "metadata": {
        "id": "H4jNE-BMAK3f"
      },
      "source": [
        "# ch5_code01_pa23_ipynb\n",
        "## 5장 파이썬 날개달기\n",
        "## pa23\n",
        "### 클래스, 모듈, 패키지\n",
        "---\n",
        "- 클래스\n",
        "   - 클래스는 왜 필요한가?\n",
        "   - 클래스와 객체\n",
        "   - 사칙연산 클래스 만들기\n",
        "     - 클래스를 어떻게 만들지 먼저 구상하기\n",
        "     - 클래스 구조 만들기\n",
        "     - 객체에 숫자 지정할 수 있게 만들기\n",
        "     - 더하기 기능 만들기\n",
        "     - 곱하기, 빼기, 나누기 기능 만들기\n",
        "   - 생성자 (Constructor)\n",
        "   - 클래스의 상속\n",
        "   - 메서드 오버라이딩\n",
        "   - 클래스 변수"
      ]
    },
    {
      "cell_type": "code",
      "metadata": {
        "id": "hXPcvn1CtW6z",
        "colab": {
          "base_uri": "https://localhost:8080/"
        },
        "outputId": "50bb5fe3-48dc-4edd-d020-b3c26c0adbc1"
      },
      "source": [
        "# ch5_01_class.py\n",
        "#\n",
        "print(\"클래스란 무엇인가?\")\n",
        "#######################################\n",
        "# 클래스(class)\n",
        "#######################################"
      ],
      "execution_count": null,
      "outputs": [
        {
          "output_type": "stream",
          "text": [
            "클래스란 무엇인가?\n"
          ],
          "name": "stdout"
        }
      ]
    },
    {
      "cell_type": "markdown",
      "metadata": {
        "id": "U-TPsQeYCL9B"
      },
      "source": [
        "### 클래스의 필요성\n",
        "-  지정된 기능을 수행하는 변수와 함수의 모음\n",
        "- 인스턴스, 즉 객체를 생성하여 기능을 이용\n",
        "- 코딩을 객체화"
      ]
    },
    {
      "cell_type": "code",
      "metadata": {
        "colab": {
          "base_uri": "https://localhost:8080/"
        },
        "id": "7Q07fGipA5pt",
        "outputId": "ecad07f6-edab-4be5-f2d6-2bbbe3314005"
      },
      "source": [
        "#\n",
        "# [예] 이전에 계산한 결괏값을 기억하고 있는 계산기\n",
        "# \n",
        "result = 0\n",
        "\n",
        "def add(num):\n",
        "    global result\n",
        "    result += num\n",
        "    return result\n",
        "\n",
        "\n",
        "# 이전에 계산한 결괏값을 기억\n",
        "print(add(3))\n",
        "print(add(4))"
      ],
      "execution_count": null,
      "outputs": [
        {
          "output_type": "stream",
          "text": [
            "3\n",
            "7\n"
          ],
          "name": "stdout"
        }
      ]
    },
    {
      "cell_type": "code",
      "metadata": {
        "colab": {
          "base_uri": "https://localhost:8080/"
        },
        "id": "5im5qh7GBVId",
        "outputId": "08c7d187-e8c8-43fe-8c05-d750c3949d3a"
      },
      "source": [
        "print (result)"
      ],
      "execution_count": null,
      "outputs": [
        {
          "output_type": "stream",
          "text": [
            "7\n"
          ],
          "name": "stdout"
        }
      ]
    },
    {
      "cell_type": "code",
      "metadata": {
        "colab": {
          "base_uri": "https://localhost:8080/"
        },
        "id": "dsTaJcJAA_wT",
        "outputId": "ccaed750-887a-410b-fabc-05b65d69bbf9"
      },
      "source": [
        "# 2대의 계산기가 필요한 상황이 발생하면?\n",
        "result1 = 0\n",
        "result2 = 0\n",
        "\n",
        "def add1(num):\n",
        "    global result1\n",
        "    result1 += num\n",
        "    return result1\n",
        "\n",
        "\n",
        "def add2(num):\n",
        "    global result2\n",
        "    result2 += num\n",
        "    return result2\n",
        "\n",
        "\n",
        "\n",
        "print(add1(3))\n",
        "print(add1(4))\n",
        "\n",
        "print(add2(3))\n",
        "print(add2(7))\n",
        "\n",
        "# 계산기 1의 결괏값이 계산기 2에 아무 영향을 끼치지 않음을 확인할 수 있다. \n",
        "# 하지만 계산기가 3개, 5개, 10개로 점점 더 많이 필요해진다면 어떻게 해야 할까? \n",
        "# 그때마다 전역 변수와 함수를 추가할 것인가? "
      ],
      "execution_count": null,
      "outputs": [
        {
          "output_type": "stream",
          "text": [
            "3\n",
            "7\n",
            "3\n",
            "10\n"
          ],
          "name": "stdout"
        }
      ]
    },
    {
      "cell_type": "code",
      "metadata": {
        "colab": {
          "base_uri": "https://localhost:8080/"
        },
        "id": "E6T_lpxABwAR",
        "outputId": "ce89a8d3-e721-4536-8e80-5a107bf80d51"
      },
      "source": [
        "result1, result2"
      ],
      "execution_count": null,
      "outputs": [
        {
          "output_type": "execute_result",
          "data": {
            "text/plain": [
              "(7, 10)"
            ]
          },
          "metadata": {
            "tags": []
          },
          "execution_count": 6
        }
      ]
    },
    {
      "cell_type": "code",
      "metadata": {
        "id": "9brQH60nBm2Y",
        "colab": {
          "base_uri": "https://localhost:8080/"
        },
        "outputId": "299aab38-09d4-4240-fc90-578b3e10e410"
      },
      "source": [
        "#######################################\n",
        "print(\"클래스를 사용하면 간단하게 해결\")\n",
        "#######################################\n",
        "# class Calculator\n",
        "class Calculator:\n",
        "    def __init__(self):\n",
        "        self.result = 0\n",
        "\n",
        "    def add(self, num):\n",
        "        self.result += num\n",
        "        return self.result\n",
        "    \n",
        "    # def sub(self, num):\n",
        "    #     self.result -= num\n",
        "    #     return self.result"
      ],
      "execution_count": null,
      "outputs": [
        {
          "output_type": "stream",
          "text": [
            "클래스를 사용하면 간단하게 해결\n"
          ],
          "name": "stdout"
        }
      ]
    },
    {
      "cell_type": "code",
      "metadata": {
        "colab": {
          "base_uri": "https://localhost:8080/"
        },
        "id": "-9uIoIPKFw9r",
        "outputId": "52ce814a-d645-4771-d2b1-674b0a6577fe"
      },
      "source": [
        "cal1 = Calculator()\n",
        "cal2 = Calculator()\n",
        "\n",
        "print(cal1.add(3))\n",
        "print(cal1.add(4))\n",
        "print(cal2.add(3))\n",
        "print(cal2.add(7))"
      ],
      "execution_count": null,
      "outputs": [
        {
          "output_type": "stream",
          "text": [
            "3\n",
            "7\n",
            "3\n",
            "10\n"
          ],
          "name": "stdout"
        }
      ]
    },
    {
      "cell_type": "code",
      "metadata": {
        "colab": {
          "base_uri": "https://localhost:8080/"
        },
        "id": "GyK6PBHzGK09",
        "outputId": "5aeed189-0e29-4b83-a8b0-10935f38ba93"
      },
      "source": [
        "cal3 = Calculator()\n",
        "cal3.add(10)"
      ],
      "execution_count": null,
      "outputs": [
        {
          "output_type": "execute_result",
          "data": {
            "text/plain": [
              "10"
            ]
          },
          "metadata": {
            "tags": []
          },
          "execution_count": 9
        }
      ]
    },
    {
      "cell_type": "code",
      "metadata": {
        "colab": {
          "base_uri": "https://localhost:8080/"
        },
        "id": "2j9eTMo-GYTm",
        "outputId": "3371d0d4-f4ed-4d3c-aa5d-05f90ea80bb2"
      },
      "source": [
        "cal3.add(40)"
      ],
      "execution_count": null,
      "outputs": [
        {
          "output_type": "execute_result",
          "data": {
            "text/plain": [
              "50"
            ]
          },
          "metadata": {
            "tags": []
          },
          "execution_count": 10
        }
      ]
    },
    {
      "cell_type": "code",
      "metadata": {
        "id": "XbbxDKKhGHLg"
      },
      "source": [
        "# \n",
        "# 뺄셈(sub)을 추가하고 클래스의 객체를 다시 만들어서 사용한다.\n",
        "# \n",
        "# class Calculator\n",
        "class Calculator:\n",
        "    def __init__(self):\n",
        "        self.result = 0\n",
        "\n",
        "    def add(self, num):\n",
        "        self.result += num\n",
        "        return self.result\n",
        "\n",
        "    def sub(self, num):\n",
        "        self.result -= num\n",
        "        return self.result"
      ],
      "execution_count": null,
      "outputs": []
    },
    {
      "cell_type": "code",
      "metadata": {
        "colab": {
          "base_uri": "https://localhost:8080/"
        },
        "id": "zz_9RDtFHBzP",
        "outputId": "f9345643-5a75-41da-8076-73f8b5ebe0d9"
      },
      "source": [
        "cal = Calculator()\n",
        "cal.add(100)\n",
        "cal.sub(50) \n"
      ],
      "execution_count": null,
      "outputs": [
        {
          "output_type": "execute_result",
          "data": {
            "text/plain": [
              "50"
            ]
          },
          "metadata": {
            "tags": []
          },
          "execution_count": 19
        }
      ]
    },
    {
      "cell_type": "markdown",
      "metadata": {
        "id": "-0ixWhKfH3bj"
      },
      "source": [
        "### 클래스와 객체\n",
        ">- 클래스(class)란 똑같은 무엇인가를 계속해서 만들어 낼 수 있는 설계 도면\n",
        ">- 객체(object)란 클래스로 만든 피조물(과자 틀을 사용해 만든 과자)"
      ]
    },
    {
      "cell_type": "code",
      "metadata": {
        "colab": {
          "base_uri": "https://localhost:8080/"
        },
        "id": "4qYUFhTiGiwO",
        "outputId": "aa3af130-9ae0-4780-e15a-59150c8f91fe"
      },
      "source": [
        "#\n",
        "# 클래스(class) : 과자 틀 \n",
        "# 객체(object) : 과자 틀을 사용해 만든 과자\n",
        "#\n",
        "# 동일한 클래스로 만든 객체들은 서로 전혀 영향을 주지 않는다.\n",
        "#######################################\n",
        "\n",
        "# 간단한 클래스와 객체 \n",
        "class Cookie:\n",
        "    pass\n",
        "\n",
        "a = Cookie()\n",
        "b = Cookie()\n",
        "id(a), id(b)"
      ],
      "execution_count": null,
      "outputs": [
        {
          "output_type": "stream",
          "text": [
            "클래스와 객체\n"
          ],
          "name": "stdout"
        },
        {
          "output_type": "execute_result",
          "data": {
            "text/plain": [
              "(140174428060368, 140174428058896)"
            ]
          },
          "metadata": {
            "tags": []
          },
          "execution_count": 20
        }
      ]
    },
    {
      "cell_type": "code",
      "metadata": {
        "colab": {
          "base_uri": "https://localhost:8080/"
        },
        "id": "IxdFVYF3I2fD",
        "outputId": "19fa567e-5af8-4c79-c74d-4c070ae45882"
      },
      "source": [
        "class Cookie:\n",
        "    pass\n",
        "\n",
        "a = Cookie()\n",
        "b = Cookie()\n",
        "id(a), id(b), id(a)==id(b)"
      ],
      "execution_count": null,
      "outputs": [
        {
          "output_type": "execute_result",
          "data": {
            "text/plain": [
              "(140174429120400, 140174429118992, False)"
            ]
          },
          "metadata": {
            "tags": []
          },
          "execution_count": 21
        }
      ]
    },
    {
      "cell_type": "markdown",
      "metadata": {
        "id": "q8eYwHrdJM-K"
      },
      "source": [
        "### 객체와 인스턴스의 차이\n",
        "####  a = Cookie() 이렇게 만든 a는 객체이다. \n",
        "- 그리고 a 객체는 Cookie의 인스턴스이다. \n",
        "> 즉 인스턴스라는 말은 특정 객체(a)가 어떤 클래스(Cookie)의 객체인지를 관계 위주로 설명할 때 사용한다"
      ]
    },
    {
      "cell_type": "code",
      "metadata": {
        "colab": {
          "base_uri": "https://localhost:8080/"
        },
        "id": "7-67cg6BIllK",
        "outputId": "63ce4da1-f513-47a9-8084-bf76fc8fcbdd"
      },
      "source": [
        "print(\"사칙연산 클래스 만들기\")\n",
        "#######################################\n",
        "# 사칙연산을 가능하게 하는 FourCal 클래스\n",
        "# class FourCal\n",
        "#\n",
        "# Usage:\n",
        "# a = FourCal()\n",
        "# a.setdata(4, 2)\n",
        "# a.add(), a.sub(), a.mul(), a.div()\n",
        "#\n",
        "#######################################"
      ],
      "execution_count": null,
      "outputs": [
        {
          "output_type": "stream",
          "text": [
            "사칙연산 클래스 만들기\n"
          ],
          "name": "stdout"
        }
      ]
    },
    {
      "cell_type": "code",
      "metadata": {
        "colab": {
          "base_uri": "https://localhost:8080/"
        },
        "id": "ugQBE1z4KDBZ",
        "outputId": "dba3e278-6d0b-4c80-fd97-e2d5989ae2d1"
      },
      "source": [
        "print(\"1. FourCal 클래스 구조 만들기\")\n",
        "\n",
        "class FourCal:\n",
        "    pass\n",
        "\n",
        "\n",
        "# 객체 만들기\n",
        "a = FourCal()\n",
        "type(a), id(a)"
      ],
      "execution_count": null,
      "outputs": [
        {
          "output_type": "stream",
          "text": [
            "1. FourCal 클래스 구조 만들기\n"
          ],
          "name": "stdout"
        },
        {
          "output_type": "execute_result",
          "data": {
            "text/plain": [
              "(__main__.FourCal, 140174428148496)"
            ]
          },
          "metadata": {
            "tags": []
          },
          "execution_count": 23
        }
      ]
    },
    {
      "cell_type": "code",
      "metadata": {
        "colab": {
          "base_uri": "https://localhost:8080/"
        },
        "id": "FCyLQ4glKFjO",
        "outputId": "8c2a694d-3c74-4bf3-a05f-0ec7faa2ed82"
      },
      "source": [
        "#######################################\n",
        "print(\"2. 객체에 숫자 지정할 수 있게 만들기\")\n",
        "# function setdata()  # method\n",
        "\n",
        "class FourCal:\n",
        "   def setdata(self, first, second):\n",
        "       self.first = first\n",
        "       self.second = second"
      ],
      "execution_count": null,
      "outputs": [
        {
          "output_type": "stream",
          "text": [
            "2. 객체에 숫자 지정할 수 있게 만들기\n"
          ],
          "name": "stdout"
        }
      ]
    },
    {
      "cell_type": "code",
      "metadata": {
        "colab": {
          "base_uri": "https://localhost:8080/"
        },
        "id": "G3jK_7-2Kedg",
        "outputId": "5f8e55ec-16d2-4525-d6d2-8208d5f9ae4e"
      },
      "source": [
        "a = FourCal()\n",
        "a.setdata(4, 2)\n",
        "\n",
        "# 객체 변수\n",
        "a.first    # self.first\n",
        "a.second   # self.second\n",
        "a.first,a.second"
      ],
      "execution_count": null,
      "outputs": [
        {
          "output_type": "execute_result",
          "data": {
            "text/plain": [
              "(4, 2)"
            ]
          },
          "metadata": {
            "tags": []
          },
          "execution_count": 26
        }
      ]
    },
    {
      "cell_type": "code",
      "metadata": {
        "colab": {
          "base_uri": "https://localhost:8080/"
        },
        "id": "lQ_uLyEXKlAJ",
        "outputId": "913dd78d-e2ea-42b8-f24d-04bd55cd9eaf"
      },
      "source": [
        "# 객체를 이용하기\n",
        "a = FourCal()\n",
        "b = FourCal()\n",
        "\n",
        "print(a is b)\n",
        "\n",
        "type(a), id(a), type(b), id(b)"
      ],
      "execution_count": null,
      "outputs": [
        {
          "output_type": "stream",
          "text": [
            "False\n"
          ],
          "name": "stdout"
        },
        {
          "output_type": "execute_result",
          "data": {
            "text/plain": [
              "(__main__.FourCal, 140174428142480, __main__.FourCal, 140174428140496)"
            ]
          },
          "metadata": {
            "tags": []
          },
          "execution_count": 33
        }
      ]
    },
    {
      "cell_type": "code",
      "metadata": {
        "colab": {
          "base_uri": "https://localhost:8080/"
        },
        "id": "DfAqId3VLLo-",
        "outputId": "b435ba2a-bfb6-40cf-c51d-f9e7e9f77586"
      },
      "source": [
        "a.setdata(4, 2)\n",
        "print(a.first)\n",
        "b.setdata(3, 7)\n",
        "print(b.first)\n",
        "\n",
        "# print(a.first)  # what value?\n",
        "# a 객체의 first 값은 b 객체의 first 값에 영향받지 않고 원래 값을 유지\n",
        "# 클래스로 만든 객체의 객체변수는 다른 객체의 객체변수에 상관없이 독립적인 값을 유지\n",
        "\n",
        "# id(a.first), id(b.first)\n"
      ],
      "execution_count": null,
      "outputs": [
        {
          "output_type": "stream",
          "text": [
            "4\n",
            "3\n"
          ],
          "name": "stdout"
        }
      ]
    },
    {
      "cell_type": "code",
      "metadata": {
        "colab": {
          "base_uri": "https://localhost:8080/"
        },
        "id": "_ai6FID0MJcs",
        "outputId": "920a3e3e-4887-4565-8539-27a3f8bd0b18"
      },
      "source": [
        "print(a.first)  # what value?"
      ],
      "execution_count": null,
      "outputs": [
        {
          "output_type": "stream",
          "text": [
            "4\n"
          ],
          "name": "stdout"
        }
      ]
    },
    {
      "cell_type": "code",
      "metadata": {
        "colab": {
          "base_uri": "https://localhost:8080/"
        },
        "id": "OaSgM5gxMLnt",
        "outputId": "6ac62d8c-8aa3-427a-a1de-6f63891e647d"
      },
      "source": [
        "id(a.first), id(b.first)"
      ],
      "execution_count": null,
      "outputs": [
        {
          "output_type": "execute_result",
          "data": {
            "text/plain": [
              "(94592921889376, 94592921889344)"
            ]
          },
          "metadata": {
            "tags": []
          },
          "execution_count": 31
        }
      ]
    },
    {
      "cell_type": "code",
      "metadata": {
        "colab": {
          "base_uri": "https://localhost:8080/"
        },
        "id": "rOFKflePK-4s",
        "outputId": "05446759-c9bb-4653-94fe-640d07bbe543"
      },
      "source": [
        "\n",
        "#######################################\n",
        "print(\"3. 더하기 기능 만들기\")\n",
        "# function add()  # method\n",
        "\n",
        "class FourCal:\n",
        "    def setdata(self, first, second):\n",
        "        self.first = first\n",
        "        self.second = second\n",
        "\n",
        "    def add(self):\n",
        "        result = self.first + self.second\n",
        "        return result\n",
        "    \n",
        "\n",
        "a = FourCal()\n",
        "a.setdata(4, 2)\n",
        "a.add()"
      ],
      "execution_count": null,
      "outputs": [
        {
          "output_type": "stream",
          "text": [
            "3. 더하기 기능 만들기\n"
          ],
          "name": "stdout"
        },
        {
          "output_type": "execute_result",
          "data": {
            "text/plain": [
              "6"
            ]
          },
          "metadata": {
            "tags": []
          },
          "execution_count": 35
        }
      ]
    },
    {
      "cell_type": "code",
      "metadata": {
        "colab": {
          "base_uri": "https://localhost:8080/"
        },
        "id": "p29KFL2QMo2W",
        "outputId": "f48d3112-1220-42ae-c04e-ef1335b25668"
      },
      "source": [
        "#######################################\n",
        "print(\"4. 곱하기, 빼기, 나누기 기능 추가\")\n",
        "# function sub(), mul(), div()\n",
        "\n",
        "class FourCal:\n",
        "    def setdata(self, first, second):\n",
        "        self.first = first\n",
        "        self.second = second\n",
        "        \n",
        "    def add(self):\n",
        "        result = self.first + self.second\n",
        "        return result\n",
        "\n",
        "    def sub(self):\n",
        "        result = self.first - self.second\n",
        "        return result\n",
        "\n",
        "    def mul(self):\n",
        "        result = self.first * self.second\n",
        "        return result\n",
        "\n",
        "    def div(self):\n",
        "        result = self.first / self.second\n",
        "        return result\n",
        "    \n",
        "\n",
        "  \n",
        "a = FourCal()\n",
        "b = FourCal()\n",
        "\n",
        "a.setdata(4, 2)\n",
        "b.setdata(3, 8)\n",
        "\n",
        "print(a.add(), a.sub(), a.mul(), a.div())\n",
        "b.add(), b.sub(), b.mul(), b.div()"
      ],
      "execution_count": null,
      "outputs": [
        {
          "output_type": "stream",
          "text": [
            "4. 곱하기, 빼기, 나누기 기능 추가\n",
            "6 2 8 2.0\n"
          ],
          "name": "stdout"
        },
        {
          "output_type": "execute_result",
          "data": {
            "text/plain": [
              "(11, -5, 24, 0.375)"
            ]
          },
          "metadata": {
            "tags": []
          },
          "execution_count": 2
        }
      ]
    },
    {
      "cell_type": "markdown",
      "metadata": {
        "id": "mhq8MXcFNUX6"
      },
      "source": [
        "### 생성자(Constructor)\n",
        "- 클래스에 __init__() 로 정의"
      ]
    },
    {
      "cell_type": "code",
      "metadata": {
        "colab": {
          "base_uri": "https://localhost:8080/",
          "height": 345
        },
        "id": "vzbZeUU-M2sA",
        "outputId": "445b24ae-b835-4878-c422-a7d3da828fe0"
      },
      "source": [
        "#######################################\n",
        "print(\"생성자 (Constructor)\")\n",
        "#######################################\n",
        "#\n",
        "# __init__()\n",
        "#\n",
        "\n",
        "a = FourCal()\n",
        "a.add()   #  AttributeError"
      ],
      "execution_count": null,
      "outputs": [
        {
          "output_type": "stream",
          "text": [
            "생성자 (Constructor)\n"
          ],
          "name": "stdout"
        },
        {
          "output_type": "error",
          "ename": "AttributeError",
          "evalue": "ignored",
          "traceback": [
            "\u001b[0;31m---------------------------------------------------------------------------\u001b[0m",
            "\u001b[0;31mAttributeError\u001b[0m                            Traceback (most recent call last)",
            "\u001b[0;32m<ipython-input-3-4977063eedc7>\u001b[0m in \u001b[0;36m<module>\u001b[0;34m()\u001b[0m\n\u001b[1;32m      7\u001b[0m \u001b[0;34m\u001b[0m\u001b[0m\n\u001b[1;32m      8\u001b[0m \u001b[0ma\u001b[0m \u001b[0;34m=\u001b[0m \u001b[0mFourCal\u001b[0m\u001b[0;34m(\u001b[0m\u001b[0;34m)\u001b[0m\u001b[0;34m\u001b[0m\u001b[0;34m\u001b[0m\u001b[0m\n\u001b[0;32m----> 9\u001b[0;31m \u001b[0ma\u001b[0m\u001b[0;34m.\u001b[0m\u001b[0madd\u001b[0m\u001b[0;34m(\u001b[0m\u001b[0;34m)\u001b[0m   \u001b[0;31m#  AttributeError\u001b[0m\u001b[0;34m\u001b[0m\u001b[0;34m\u001b[0m\u001b[0m\n\u001b[0m",
            "\u001b[0;32m<ipython-input-2-3743f3bca89b>\u001b[0m in \u001b[0;36madd\u001b[0;34m(self)\u001b[0m\n\u001b[1;32m      9\u001b[0m \u001b[0;34m\u001b[0m\u001b[0m\n\u001b[1;32m     10\u001b[0m     \u001b[0;32mdef\u001b[0m \u001b[0madd\u001b[0m\u001b[0;34m(\u001b[0m\u001b[0mself\u001b[0m\u001b[0;34m)\u001b[0m\u001b[0;34m:\u001b[0m\u001b[0;34m\u001b[0m\u001b[0;34m\u001b[0m\u001b[0m\n\u001b[0;32m---> 11\u001b[0;31m         \u001b[0mresult\u001b[0m \u001b[0;34m=\u001b[0m \u001b[0mself\u001b[0m\u001b[0;34m.\u001b[0m\u001b[0mfirst\u001b[0m \u001b[0;34m+\u001b[0m \u001b[0mself\u001b[0m\u001b[0;34m.\u001b[0m\u001b[0msecond\u001b[0m\u001b[0;34m\u001b[0m\u001b[0;34m\u001b[0m\u001b[0m\n\u001b[0m\u001b[1;32m     12\u001b[0m         \u001b[0;32mreturn\u001b[0m \u001b[0mresult\u001b[0m\u001b[0;34m\u001b[0m\u001b[0;34m\u001b[0m\u001b[0m\n\u001b[1;32m     13\u001b[0m \u001b[0;34m\u001b[0m\u001b[0m\n",
            "\u001b[0;31mAttributeError\u001b[0m: 'FourCal' object has no attribute 'first'"
          ]
        }
      ]
    },
    {
      "cell_type": "code",
      "metadata": {
        "colab": {
          "base_uri": "https://localhost:8080/",
          "height": 204
        },
        "id": "W1OcL92q3XAo",
        "outputId": "041ed177-3f15-4013-c8fa-7197bac9883c"
      },
      "source": [
        "#######################################\n",
        "class FourCal:\n",
        "    def __init__(self, first, second):\n",
        "        self.first = first\n",
        "        self.second = second\n",
        "\n",
        "    def setdata(self, first, second):\n",
        "        self.first = first\n",
        "        self.second = second\n",
        "        \n",
        "    def add(self):\n",
        "        result = self.first + self.second\n",
        "        return result\n",
        "\n",
        "    def sub(self):\n",
        "        result = self.first - self.second\n",
        "        return result\n",
        "\n",
        "    def mul(self):\n",
        "        result = self.first * self.second\n",
        "        return result\n",
        "\n",
        "    def div(self):\n",
        "        result = self.first / self.second\n",
        "        return result\n",
        "\n",
        "#######################################\n",
        "\n",
        "a = FourCal()   # TypeError:"
      ],
      "execution_count": null,
      "outputs": [
        {
          "output_type": "error",
          "ename": "TypeError",
          "evalue": "ignored",
          "traceback": [
            "\u001b[0;31m---------------------------------------------------------------------------\u001b[0m",
            "\u001b[0;31mTypeError\u001b[0m                                 Traceback (most recent call last)",
            "\u001b[0;32m<ipython-input-4-a3677206b031>\u001b[0m in \u001b[0;36m<module>\u001b[0;34m()\u001b[0m\n\u001b[1;32m     27\u001b[0m \u001b[0;31m#######################################\u001b[0m\u001b[0;34m\u001b[0m\u001b[0;34m\u001b[0m\u001b[0;34m\u001b[0m\u001b[0m\n\u001b[1;32m     28\u001b[0m \u001b[0;34m\u001b[0m\u001b[0m\n\u001b[0;32m---> 29\u001b[0;31m \u001b[0ma\u001b[0m \u001b[0;34m=\u001b[0m \u001b[0mFourCal\u001b[0m\u001b[0;34m(\u001b[0m\u001b[0;34m)\u001b[0m   \u001b[0;31m# TypeError:\u001b[0m\u001b[0;34m\u001b[0m\u001b[0;34m\u001b[0m\u001b[0m\n\u001b[0m",
            "\u001b[0;31mTypeError\u001b[0m: __init__() missing 2 required positional arguments: 'first' and 'second'"
          ]
        }
      ]
    },
    {
      "cell_type": "code",
      "metadata": {
        "colab": {
          "base_uri": "https://localhost:8080/"
        },
        "id": "b7WFwGwW3vzY",
        "outputId": "4de3a9a0-fef5-4b67-d307-cbec7420cf83"
      },
      "source": [
        "a = FourCal(4, 2)\n",
        "a.first, a.second\n",
        "\n",
        "a.mul()"
      ],
      "execution_count": null,
      "outputs": [
        {
          "output_type": "execute_result",
          "data": {
            "text/plain": [
              "8"
            ]
          },
          "metadata": {
            "tags": []
          },
          "execution_count": 5
        }
      ]
    },
    {
      "cell_type": "code",
      "metadata": {
        "colab": {
          "base_uri": "https://localhost:8080/"
        },
        "id": "gXDp-fY34OvT",
        "outputId": "cc47aa74-9ec9-46ab-a7b7-42d928d6e177"
      },
      "source": [
        "a = FourCal(4, 2)\n",
        "a.first, a.second\n",
        "\n",
        "a.mul(), a.div()"
      ],
      "execution_count": null,
      "outputs": [
        {
          "output_type": "execute_result",
          "data": {
            "text/plain": [
              "(8, 2.0)"
            ]
          },
          "metadata": {
            "tags": []
          },
          "execution_count": 6
        }
      ]
    },
    {
      "cell_type": "markdown",
      "metadata": {
        "id": "ITkgDpgO46uQ"
      },
      "source": [
        "### 클래스의 상속\n",
        "> 상속은 기존 클래스를 변경하지 않고 기능을 추가하거나 기존 기능을 변경하려고 할 때 사용"
      ]
    },
    {
      "cell_type": "code",
      "metadata": {
        "colab": {
          "base_uri": "https://localhost:8080/"
        },
        "id": "YwJUfnfF3w2Y",
        "outputId": "31d8a47c-b1c8-4737-bcb5-0407bf8fb342"
      },
      "source": [
        "# \n",
        "# class 클래스 이름(상속할 클래스 이름)\n",
        "# \n",
        "# 클래스 FourCal를 상속하는 \n",
        "# class MoreFourCal\n",
        "# FourCal 클래스에 a^b (a의 b제곱)을 구할 수 있는 기능을 추가\n",
        "#\n",
        "\n",
        "class MoreFourCal(FourCal):\n",
        "    pass\n",
        "\n",
        "\n",
        "a = MoreFourCal(4, 2)\n",
        "a.add(), a.mul()"
      ],
      "execution_count": null,
      "outputs": [
        {
          "output_type": "stream",
          "text": [
            "클래스의 상속\n"
          ],
          "name": "stdout"
        },
        {
          "output_type": "execute_result",
          "data": {
            "text/plain": [
              "(6, 8)"
            ]
          },
          "metadata": {
            "tags": []
          },
          "execution_count": 7
        }
      ]
    },
    {
      "cell_type": "markdown",
      "metadata": {
        "id": "1Boqp5uN_Gdw"
      },
      "source": [
        "#### MoreFourCal\n",
        "> 지수 계산 기능을 추가한 클래스"
      ]
    },
    {
      "cell_type": "code",
      "metadata": {
        "colab": {
          "base_uri": "https://localhost:8080/"
        },
        "id": "j_wjmKAC-4BV",
        "outputId": "8fa28ad7-6af8-486f-aa0e-60bb6a78e002"
      },
      "source": [
        "class MoreFourCal(FourCal):\n",
        "    def pow(self):\n",
        "        result = self.first ** self.second\n",
        "        return result\n",
        "    \n",
        "\n",
        "a = MoreFourCal(4, 2)\n",
        "print(a.add(), a.mul())\n",
        "\n",
        "print(a.pow())\n",
        "\n",
        "# 상속은 MoreFourCal 클래스처럼 기존 클래스(FourCal)는 \n",
        "# 그대로 놔둔 채 클래스의 기능을 확장시킬 때 주로 사용."
      ],
      "execution_count": null,
      "outputs": [
        {
          "output_type": "stream",
          "text": [
            "6 8\n",
            "16\n"
          ],
          "name": "stdout"
        }
      ]
    },
    {
      "cell_type": "markdown",
      "metadata": {
        "id": "ygaMAmH4_lNy"
      },
      "source": [
        "### 메서드 오버라이딩 (재정의)"
      ]
    },
    {
      "cell_type": "code",
      "metadata": {
        "colab": {
          "base_uri": "https://localhost:8080/",
          "height": 345
        },
        "id": "OsOdq2lG_Txa",
        "outputId": "007ff094-eb07-4b7c-8ae2-623b75eaf87f"
      },
      "source": [
        "#######################################\n",
        "print(\"메서드 오버라이딩\")\n",
        "# 기존의 함수(메소드)를 수정/보완하여 재정의\n",
        "#######################################\n",
        "# \n",
        "a = FourCal(4, 0)\n",
        "a.div()  # ZeroDivisionError:"
      ],
      "execution_count": null,
      "outputs": [
        {
          "output_type": "stream",
          "text": [
            "메서드 오버라이딩\n"
          ],
          "name": "stdout"
        },
        {
          "output_type": "error",
          "ename": "ZeroDivisionError",
          "evalue": "ignored",
          "traceback": [
            "\u001b[0;31m---------------------------------------------------------------------------\u001b[0m",
            "\u001b[0;31mZeroDivisionError\u001b[0m                         Traceback (most recent call last)",
            "\u001b[0;32m<ipython-input-10-c9ccbdaaffb6>\u001b[0m in \u001b[0;36m<module>\u001b[0;34m()\u001b[0m\n\u001b[1;32m      5\u001b[0m \u001b[0;31m#\u001b[0m\u001b[0;34m\u001b[0m\u001b[0;34m\u001b[0m\u001b[0;34m\u001b[0m\u001b[0m\n\u001b[1;32m      6\u001b[0m \u001b[0ma\u001b[0m \u001b[0;34m=\u001b[0m \u001b[0mFourCal\u001b[0m\u001b[0;34m(\u001b[0m\u001b[0;36m4\u001b[0m\u001b[0;34m,\u001b[0m \u001b[0;36m0\u001b[0m\u001b[0;34m)\u001b[0m\u001b[0;34m\u001b[0m\u001b[0;34m\u001b[0m\u001b[0m\n\u001b[0;32m----> 7\u001b[0;31m \u001b[0ma\u001b[0m\u001b[0;34m.\u001b[0m\u001b[0mdiv\u001b[0m\u001b[0;34m(\u001b[0m\u001b[0;34m)\u001b[0m  \u001b[0;31m# ZeroDivisionError:\u001b[0m\u001b[0;34m\u001b[0m\u001b[0;34m\u001b[0m\u001b[0m\n\u001b[0m",
            "\u001b[0;32m<ipython-input-4-a3677206b031>\u001b[0m in \u001b[0;36mdiv\u001b[0;34m(self)\u001b[0m\n\u001b[1;32m     22\u001b[0m \u001b[0;34m\u001b[0m\u001b[0m\n\u001b[1;32m     23\u001b[0m     \u001b[0;32mdef\u001b[0m \u001b[0mdiv\u001b[0m\u001b[0;34m(\u001b[0m\u001b[0mself\u001b[0m\u001b[0;34m)\u001b[0m\u001b[0;34m:\u001b[0m\u001b[0;34m\u001b[0m\u001b[0;34m\u001b[0m\u001b[0m\n\u001b[0;32m---> 24\u001b[0;31m         \u001b[0mresult\u001b[0m \u001b[0;34m=\u001b[0m \u001b[0mself\u001b[0m\u001b[0;34m.\u001b[0m\u001b[0mfirst\u001b[0m \u001b[0;34m/\u001b[0m \u001b[0mself\u001b[0m\u001b[0;34m.\u001b[0m\u001b[0msecond\u001b[0m\u001b[0;34m\u001b[0m\u001b[0;34m\u001b[0m\u001b[0m\n\u001b[0m\u001b[1;32m     25\u001b[0m         \u001b[0;32mreturn\u001b[0m \u001b[0mresult\u001b[0m\u001b[0;34m\u001b[0m\u001b[0;34m\u001b[0m\u001b[0m\n\u001b[1;32m     26\u001b[0m \u001b[0;34m\u001b[0m\u001b[0m\n",
            "\u001b[0;31mZeroDivisionError\u001b[0m: division by zero"
          ]
        }
      ]
    },
    {
      "cell_type": "code",
      "metadata": {
        "colab": {
          "base_uri": "https://localhost:8080/"
        },
        "id": "MHToTc-V_4oC",
        "outputId": "9174a7b4-486a-43cb-ad84-38c3821de8ec"
      },
      "source": [
        "\n",
        "# 메서드 오버라이딩 (Overriding)\n",
        "class SafeFourCal(FourCal):\n",
        "    def div(self):\n",
        "        if self.second == 0:  # 나누는 값이 0인 경우 0을 리턴하도록 수정\n",
        "            print(\"분모는 0을 사용할 수 없다.\")\n",
        "            return 0  # 함수가 0이 되면 종료\n",
        "        else:\n",
        "            return self.first / self.second\n",
        "    \n",
        "\n",
        "\n",
        "a = SafeFourCal(4, 0)\n",
        "a.div()  # 메서드 오버라이딩 사용"
      ],
      "execution_count": null,
      "outputs": [
        {
          "output_type": "stream",
          "text": [
            "분모는 0을 사용할 수 없다.\n"
          ],
          "name": "stdout"
        },
        {
          "output_type": "execute_result",
          "data": {
            "text/plain": [
              "0"
            ]
          },
          "metadata": {
            "tags": []
          },
          "execution_count": 11
        }
      ]
    },
    {
      "cell_type": "code",
      "metadata": {
        "colab": {
          "base_uri": "https://localhost:8080/"
        },
        "id": "CITeObEtAbId",
        "outputId": "6a1ccb9d-808f-49a6-b45f-5d65b7e2a504"
      },
      "source": [
        "b = SafeFourCal(4,2)\n",
        "b.div()"
      ],
      "execution_count": null,
      "outputs": [
        {
          "output_type": "execute_result",
          "data": {
            "text/plain": [
              "2.0"
            ]
          },
          "metadata": {
            "tags": []
          },
          "execution_count": 12
        }
      ]
    },
    {
      "cell_type": "markdown",
      "metadata": {
        "id": "X5eT--nEAs5w"
      },
      "source": [
        "### 클래스 변수"
      ]
    },
    {
      "cell_type": "code",
      "metadata": {
        "colab": {
          "base_uri": "https://localhost:8080/"
        },
        "id": "pZ-rjyntAJmg",
        "outputId": "1b08dbac-8998-4de5-e877-6eea182f61a7"
      },
      "source": [
        "#######################################\n",
        "print(\"클래스 변수\")\n",
        "# 객체변수와 클래스변수의 차이?\n",
        "# 객체변수   :   객체.변수\n",
        "# 클래스변수 : 클래스.변수\n",
        "#######################################\n",
        "# \n",
        "class Family:\n",
        "    lastname = \"김\"   # 클래스변수"
      ],
      "execution_count": null,
      "outputs": [
        {
          "output_type": "stream",
          "text": [
            "클래스 변수\n"
          ],
          "name": "stdout"
        }
      ]
    },
    {
      "cell_type": "code",
      "metadata": {
        "colab": {
          "base_uri": "https://localhost:8080/",
          "height": 35
        },
        "id": "1S-byDjHA7DE",
        "outputId": "6a46a5e9-120e-492f-96f4-9c5acce16f19"
      },
      "source": [
        "# 클래스이름.클래스 변수로 사용\n",
        "Family.lastname   # 객체를 통하지 않고 바로 접근 가능"
      ],
      "execution_count": null,
      "outputs": [
        {
          "output_type": "execute_result",
          "data": {
            "application/vnd.google.colaboratory.intrinsic+json": {
              "type": "string"
            },
            "text/plain": [
              "'김'"
            ]
          },
          "metadata": {
            "tags": []
          },
          "execution_count": 15
        }
      ]
    },
    {
      "cell_type": "code",
      "metadata": {
        "colab": {
          "base_uri": "https://localhost:8080/"
        },
        "id": "Y5194NVtBKjW",
        "outputId": "dca1052c-ad17-49a9-e9f6-a8ddb1cca210"
      },
      "source": [
        "# 객체변수로 접근\n",
        "a = Family()\n",
        "b = Family()\n",
        "\n",
        "print(a.lastname)\n",
        "print(b.lastname)\n",
        "id(a.lastname), id(b.lastname)"
      ],
      "execution_count": null,
      "outputs": [
        {
          "output_type": "stream",
          "text": [
            "김\n",
            "김\n"
          ],
          "name": "stdout"
        },
        {
          "output_type": "execute_result",
          "data": {
            "text/plain": [
              "(140334538762080, 140334538762080)"
            ]
          },
          "metadata": {
            "tags": []
          },
          "execution_count": 16
        }
      ]
    },
    {
      "cell_type": "code",
      "metadata": {
        "colab": {
          "base_uri": "https://localhost:8080/"
        },
        "id": "423D3Mn6BPzz",
        "outputId": "fb2edbfd-7773-4765-a4ad-508da1927ae9"
      },
      "source": [
        "id(a.lastname), id(b.lastname), id(a.lastname) == id(b.lastname)"
      ],
      "execution_count": null,
      "outputs": [
        {
          "output_type": "execute_result",
          "data": {
            "text/plain": [
              "(140334538762080, 140334538762080, True)"
            ]
          },
          "metadata": {
            "tags": []
          },
          "execution_count": 17
        }
      ]
    },
    {
      "cell_type": "code",
      "metadata": {
        "colab": {
          "base_uri": "https://localhost:8080/"
        },
        "id": "wqhuTQ2kBABT",
        "outputId": "4e4fd512-f707-41b5-a36f-21427faf46f6"
      },
      "source": [
        "# 클래스변수를 변경하면?\n",
        "Family.lastname = \"박\"\n",
        "\n",
        "print(a.lastname)\n",
        "print(b.lastname)\n",
        "id(a.lastname), id(b.lastname), id(Family.lastname)\n",
        "# 클래스 변수가 공유됨을 확인."
      ],
      "execution_count": null,
      "outputs": [
        {
          "output_type": "stream",
          "text": [
            "박\n",
            "박\n"
          ],
          "name": "stdout"
        },
        {
          "output_type": "execute_result",
          "data": {
            "text/plain": [
              "(140334471781552, 140334471781552, 140334471781552)"
            ]
          },
          "metadata": {
            "tags": []
          },
          "execution_count": 18
        }
      ]
    },
    {
      "cell_type": "code",
      "metadata": {
        "colab": {
          "base_uri": "https://localhost:8080/"
        },
        "id": "XhAwwPF_BcOi",
        "outputId": "165c4209-a8cf-4d6f-cc44-a175f70d5626"
      },
      "source": [
        "# 객체변수를 변경하면?\n",
        "a.lastname = \"이\"\n",
        "print (a.lastname, b.lastname, Family.lastname)\n",
        "id(a.lastname), id(b.lastname), id(Family.lastname)\n",
        "\n",
        "# 실무 프로그래밍에는 클래스 변수보다는 객체변수를 많이 사용."
      ],
      "execution_count": null,
      "outputs": [
        {
          "output_type": "stream",
          "text": [
            "이 박 박\n"
          ],
          "name": "stdout"
        },
        {
          "output_type": "execute_result",
          "data": {
            "text/plain": [
              "(140334471926928, 140334471781552, 140334471781552)"
            ]
          },
          "metadata": {
            "tags": []
          },
          "execution_count": 19
        }
      ]
    },
    {
      "cell_type": "markdown",
      "metadata": {
        "id": "ravop8urB1-m"
      },
      "source": [
        "## 모듈 (module)"
      ]
    },
    {
      "cell_type": "markdown",
      "metadata": {
        "id": "InFiozTjVOrv"
      },
      "source": [
        "- 모듈\n",
        "   - 모듈 만들기\n",
        "   - 모듈 불러오기\n",
        "   - if __name__ == \"__main__\": 의 의미\n",
        "   - 클래스나 변수 등을 포함한 모듈\n",
        "   - 다른 파일에서 모듈 불러오기"
      ]
    },
    {
      "cell_type": "code",
      "metadata": {
        "id": "-1H6FtDIVauP",
        "colab": {
          "base_uri": "https://localhost:8080/"
        },
        "outputId": "aa8b31e0-2847-4f38-9995-c68a1b1405b9"
      },
      "source": [
        "# ch5_02_module.py\n",
        "#\n",
        "print(\"모듈이란 무엇인가?\")\n",
        "#######################################\n",
        "# 모듈이란 함수나 변수 또는 클래스를 모아 놓은 파이썬 파일\n",
        "#######################################"
      ],
      "execution_count": null,
      "outputs": [
        {
          "output_type": "stream",
          "text": [
            "모듈이란 무엇인가?\n"
          ],
          "name": "stdout"
        }
      ]
    },
    {
      "cell_type": "markdown",
      "metadata": {
        "id": "WMhhPR_5DhBK"
      },
      "source": [
        "### 모듈 만들기"
      ]
    },
    {
      "cell_type": "code",
      "metadata": {
        "colab": {
          "base_uri": "https://localhost:8080/",
          "height": 53
        },
        "id": "y7jHOH-CDYzE",
        "outputId": "a2c7caec-b36f-45b5-ec81-389ab1f2b56f"
      },
      "source": [
        "print(\"모듈 만들기\")\n",
        "#######################################\n",
        "# 간단한 모듈을 한번 만들어 보자.\n",
        "#######################################\n",
        "# \n",
        "\n",
        "# mod1.py를 현재 폴더에 저장\n",
        "'''\n",
        "# mod1.py\n",
        "def add(a, b):\n",
        "    return a + b\n",
        "def sub(a, b): \n",
        "    return a-b\n",
        "'''\n",
        "\n",
        "# 파이썬 확장자 .py로 만든 파이썬 파일은 모두 모듈이다."
      ],
      "execution_count": null,
      "outputs": [
        {
          "output_type": "stream",
          "text": [
            "모듈 만들기\n"
          ],
          "name": "stdout"
        },
        {
          "output_type": "execute_result",
          "data": {
            "application/vnd.google.colaboratory.intrinsic+json": {
              "type": "string"
            },
            "text/plain": [
              "'\\n# mod1.py\\ndef add(a, b):\\n    return a + b\\ndef sub(a, b): \\n    return a-b\\n'"
            ]
          },
          "metadata": {
            "tags": []
          },
          "execution_count": 3
        }
      ]
    },
    {
      "cell_type": "markdown",
      "metadata": {
        "id": "A7ceb17fENL3"
      },
      "source": [
        "### 모듈 불러오기\n",
        "- import *.py"
      ]
    },
    {
      "cell_type": "code",
      "metadata": {
        "colab": {
          "base_uri": "https://localhost:8080/"
        },
        "id": "z8vlG-imEJkd",
        "outputId": "934428bc-83d7-4d11-ab18-a323871eec15"
      },
      "source": [
        "print(\"모듈 불러오기\")\n",
        "#######################################\n",
        "# import 모듈명\n",
        "# import는 이미 만들어 놓은 파이썬 모듈을 사용할 수 있게 해주는 명령어\n",
        "#######################################\n",
        "# \n",
        "# 현재 폴더에 있는 모듈, mod1.py를 연결하기.\n",
        "#\n",
        "import mod1\n",
        "\n",
        "print(mod1.add(3, 4))\n",
        "\n",
        "print(mod1.sub(7, 2))"
      ],
      "execution_count": null,
      "outputs": [
        {
          "output_type": "stream",
          "text": [
            "모듈 불러오기\n",
            "7\n",
            "5\n"
          ],
          "name": "stdout"
        }
      ]
    },
    {
      "cell_type": "code",
      "metadata": {
        "colab": {
          "base_uri": "https://localhost:8080/"
        },
        "id": "J8tBo52wEb9x",
        "outputId": "74535fb4-2bd3-4a5f-dcaf-cad4ee8ff005"
      },
      "source": [
        "#######################################\n",
        "# 모듈 내부 함수 이용\n",
        "# from 모듈이름 import 모듈함수\n",
        "#######################################\n",
        "#\n",
        "from mod1 import add\n",
        "add(3, 4)"
      ],
      "execution_count": null,
      "outputs": [
        {
          "output_type": "execute_result",
          "data": {
            "text/plain": [
              "7"
            ]
          },
          "metadata": {
            "tags": []
          },
          "execution_count": 5
        }
      ]
    },
    {
      "cell_type": "code",
      "metadata": {
        "colab": {
          "base_uri": "https://localhost:8080/"
        },
        "id": "8VYofzcoVSkA",
        "outputId": "53e7e1fd-0ca0-4c78-bdc4-7dffb85ceaa3"
      },
      "source": [
        "from mod1 import *\n",
        "add(10,20), sub(10,20)"
      ],
      "execution_count": null,
      "outputs": [
        {
          "output_type": "execute_result",
          "data": {
            "text/plain": [
              "(30, -10)"
            ]
          },
          "metadata": {
            "tags": []
          },
          "execution_count": 6
        }
      ]
    },
    {
      "cell_type": "code",
      "metadata": {
        "colab": {
          "base_uri": "https://localhost:8080/"
        },
        "id": "JYvyX4NOUzZo",
        "outputId": "2c447398-8fac-4f94-b90c-f3fae91e41cd"
      },
      "source": [
        "# from 모듈이름 import *\n",
        "# from mod1 import add, sub\n",
        "from mod1 import *\n",
        "\n",
        "add(3, 4)\n",
        "sub(7, 3)"
      ],
      "execution_count": null,
      "outputs": [
        {
          "output_type": "execute_result",
          "data": {
            "text/plain": [
              "4"
            ]
          },
          "metadata": {
            "tags": []
          },
          "execution_count": 7
        }
      ]
    },
    {
      "cell_type": "code",
      "metadata": {
        "id": "kNt7TYWAVcmL"
      },
      "source": [
        "print(\"if __name__ == \"__main__\": 의 의미\")\n",
        "#######################################\n",
        "# import 모듈명\n",
        "# import는 이미 만들어 놓은 파이썬 모듈을 \n",
        "# 사용할 수 있게 해주는 명령어\n",
        "#######################################\n",
        "# \n",
        "\n",
        "# mod1.py 파일을 다음과 같이 변경해 보자.\n",
        "'''\n",
        "# mod1.py \n",
        "def add(a, b): \n",
        "    return a+b\n",
        "def sub(a, b): \n",
        "    return a-b\n",
        "print(add(1, 4))\n",
        "print(sub(4, 2))\n",
        "'''\n",
        "\n",
        "###################################\n",
        "# cmd에서 실행하시오.\n",
        "# python mod1.py\n",
        "###################################\n",
        "'''\n",
        "python mod1.py\n",
        "5\n",
        "2\n",
        "'''"
      ],
      "execution_count": null,
      "outputs": []
    },
    {
      "cell_type": "code",
      "metadata": {
        "colab": {
          "base_uri": "https://localhost:8080/"
        },
        "id": "v6M9P4s4WUhb",
        "outputId": "bf7927b9-be59-40aa-c2ec-8a11cc87e325"
      },
      "source": [
        "run mod1.py"
      ],
      "execution_count": null,
      "outputs": [
        {
          "output_type": "stream",
          "text": [
            "5\n",
            "2\n"
          ],
          "name": "stdout"
        }
      ]
    },
    {
      "cell_type": "code",
      "metadata": {
        "id": "-Cvu5Wk-WTt3"
      },
      "source": [
        "import mod1\n",
        "# 5\n",
        "# 2\n",
        "# print(__name__)"
      ],
      "execution_count": null,
      "outputs": []
    },
    {
      "cell_type": "code",
      "metadata": {
        "colab": {
          "base_uri": "https://localhost:8080/"
        },
        "id": "c6ReuJzNWfnf",
        "outputId": "455da809-0178-42e0-ba7f-8c46de646ce1"
      },
      "source": [
        "print(__name__)"
      ],
      "execution_count": null,
      "outputs": [
        {
          "output_type": "stream",
          "text": [
            "__main__\n"
          ],
          "name": "stdout"
        }
      ]
    },
    {
      "cell_type": "markdown",
      "metadata": {
        "id": "U9HGYW3CXZUL"
      },
      "source": [
        "- if __name__ == \"__main__\"을 사용하면 C:\\doit>python mod1.py처럼 직접 이 파일을 실행했을 때는 __name__ == \"__main__\"이 참이 되어 if문 다음 문장이 수행된다. \n",
        "- 반대로 대화형 인터프리터나 다른 파일에서 이 모듈을 불러서 사용할 때는 __name__ == \"__main__\"이 거짓이 되어 if문 다음 문장이 수행되지 않는다."
      ]
    },
    {
      "cell_type": "code",
      "metadata": {
        "colab": {
          "base_uri": "https://localhost:8080/"
        },
        "id": "ho_Kla3uWZow",
        "outputId": "0d2eca2b-7673-40a0-e217-43b87bc42171"
      },
      "source": [
        "'''\n",
        "# mod2.py \n",
        "def add(a, b): \n",
        "    return a+b\n",
        "def sub(a, b): \n",
        "    return a-b\n",
        "if __name__ == \"__main__\":\n",
        "    print(add(1, 4))\n",
        "    print(sub(4, 2))\n",
        "'''\n",
        "\n",
        "import mod2\n",
        "print(__name__)"
      ],
      "execution_count": null,
      "outputs": [
        {
          "output_type": "stream",
          "text": [
            "__main__\n"
          ],
          "name": "stdout"
        }
      ]
    },
    {
      "cell_type": "code",
      "metadata": {
        "colab": {
          "base_uri": "https://localhost:8080/"
        },
        "id": "OnkWu8f-Xb7L",
        "outputId": "f1f11446-d570-4f13-a2a0-fca5528ba89e"
      },
      "source": [
        "run mod2.py"
      ],
      "execution_count": null,
      "outputs": [
        {
          "output_type": "stream",
          "text": [
            "5\n",
            "2\n"
          ],
          "name": "stdout"
        }
      ]
    },
    {
      "cell_type": "code",
      "metadata": {
        "colab": {
          "base_uri": "https://localhost:8080/"
        },
        "id": "Z76iJDUGXm0P",
        "outputId": "9bf52ae8-691e-4416-d01a-21e24b8c96ec"
      },
      "source": [
        "!python mod2.py"
      ],
      "execution_count": null,
      "outputs": [
        {
          "output_type": "stream",
          "text": [
            "5\n",
            "2\n"
          ],
          "name": "stdout"
        }
      ]
    },
    {
      "cell_type": "markdown",
      "metadata": {
        "id": "WzBiCJTLXysa"
      },
      "source": [
        "## 12주에 계속"
      ]
    },
    {
      "cell_type": "markdown",
      "metadata": {
        "id": "9QaB0MRaaZjJ"
      },
      "source": [
        "### 모듈 확장\n",
        "- 함수\n",
        "- 변수\n",
        "- 클래스"
      ]
    },
    {
      "cell_type": "code",
      "metadata": {
        "id": "tcevh1h8W_mj"
      },
      "source": [
        "print(\"클래스나 변수 등을 포함한 모듈\")\n",
        "#######################################\n",
        "# 클래스나 변수 등을 포함하는 모듈\n",
        "#######################################\n",
        "# \n",
        "'''\n",
        "# mod3.py \n",
        "PI = 3.141592\n",
        "class Math: \n",
        "    def solv(self, r): \n",
        "        return PI * (r ** 2) \n",
        "def add(a, b): \n",
        "    return a+b \n",
        "'''"
      ],
      "execution_count": null,
      "outputs": []
    },
    {
      "cell_type": "code",
      "metadata": {
        "id": "lr5nPOjJaPdk",
        "colab": {
          "base_uri": "https://localhost:8080/"
        },
        "outputId": "c4245efe-93fd-4dd9-acc3-615684bd0c2b"
      },
      "source": [
        "import mod3\n",
        "\n",
        "print(mod3.PI)\n",
        "\n",
        "a = mod3.Math()\n",
        "print(a.solv(2))\n",
        "\n",
        "print(mod3.add(mod3.PI, 4.4))\n"
      ],
      "execution_count": 4,
      "outputs": [
        {
          "output_type": "stream",
          "text": [
            "3.141592\n",
            "12.566368\n",
            "7.5415920000000005\n"
          ],
          "name": "stdout"
        }
      ]
    },
    {
      "cell_type": "markdown",
      "metadata": {
        "id": "JWfmvkhDbs5M"
      },
      "source": [
        "### 다른 파일에서 모듈 불러오기"
      ]
    },
    {
      "cell_type": "code",
      "metadata": {
        "id": "88EDhMD5aQwW"
      },
      "source": [
        "print(\"다른 파일에서 모듈 불러오기\")\n",
        "#######################################\n",
        "# 다른 파이썬 파일에서 이전에 만들어 놓은 \n",
        "# 모듈을 불러와서 사용하는 방법\n",
        "#######################################\n",
        "# \n",
        "'''\n",
        "# modtest.py\n",
        "import mod2\n",
        "result = mod2.add(3, 4)\n",
        "print(result)\n",
        "'''\n",
        "###################################\n",
        "# cmd에서 실행하시오.\n",
        "# python modtest.py\n",
        "###################################"
      ],
      "execution_count": null,
      "outputs": []
    },
    {
      "cell_type": "code",
      "metadata": {
        "colab": {
          "base_uri": "https://localhost:8080/"
        },
        "id": "eOGinJIFcflo",
        "outputId": "3f6183d0-a322-4d9a-9e9d-c45843236e72"
      },
      "source": [
        "run modtest.py"
      ],
      "execution_count": 5,
      "outputs": [
        {
          "output_type": "stream",
          "text": [
            "7\n"
          ],
          "name": "stdout"
        }
      ]
    },
    {
      "cell_type": "markdown",
      "metadata": {
        "id": "XTtQHbVgc9MO"
      },
      "source": [
        "### 내장 모듈 사용해보기\n",
        "- sys"
      ]
    },
    {
      "cell_type": "code",
      "metadata": {
        "colab": {
          "base_uri": "https://localhost:8080/"
        },
        "id": "eRO48SIfc5FA",
        "outputId": "5b68f197-badf-4994-912d-bc4bd95aef0c"
      },
      "source": [
        "# 참고: 현재 폴더로 경로 설정 (path)\n",
        "import sys\n",
        "sys.path.append(\"d:/mydir\")\n",
        "sys.path"
      ],
      "execution_count": 7,
      "outputs": [
        {
          "output_type": "execute_result",
          "data": {
            "text/plain": [
              "['',\n",
              " '/content',\n",
              " '/env/python',\n",
              " '/usr/lib/python37.zip',\n",
              " '/usr/lib/python3.7',\n",
              " '/usr/lib/python3.7/lib-dynload',\n",
              " '/usr/local/lib/python3.7/dist-packages',\n",
              " '/usr/lib/python3/dist-packages',\n",
              " '/usr/local/lib/python3.7/dist-packages/IPython/extensions',\n",
              " '/root/.ipython',\n",
              " 'd:/mydir']"
            ]
          },
          "metadata": {
            "tags": []
          },
          "execution_count": 7
        }
      ]
    },
    {
      "cell_type": "code",
      "metadata": {
        "colab": {
          "base_uri": "https://localhost:8080/"
        },
        "id": "Njrj4e-Id0v5",
        "outputId": "93955037-05a4-4149-8af2-ffdc5a69f5f1"
      },
      "source": [
        "sys.path.append(\"./sample_data\")\n",
        "sys.path"
      ],
      "execution_count": 8,
      "outputs": [
        {
          "output_type": "execute_result",
          "data": {
            "text/plain": [
              "['',\n",
              " '/content',\n",
              " '/env/python',\n",
              " '/usr/lib/python37.zip',\n",
              " '/usr/lib/python3.7',\n",
              " '/usr/lib/python3.7/lib-dynload',\n",
              " '/usr/local/lib/python3.7/dist-packages',\n",
              " '/usr/lib/python3/dist-packages',\n",
              " '/usr/local/lib/python3.7/dist-packages/IPython/extensions',\n",
              " '/root/.ipython',\n",
              " 'd:/mydir',\n",
              " './sample_data']"
            ]
          },
          "metadata": {
            "tags": []
          },
          "execution_count": 8
        }
      ]
    },
    {
      "cell_type": "markdown",
      "metadata": {
        "id": "DFZHMh5pVq82"
      },
      "source": [
        "- 패키지\n",
        "   - 패키지란 무엇인가?\n",
        "   - 패키지 만들기\n",
        "   - 패키지 안의 함수 실행하기\n",
        "   - __init__.py 의 용도\n",
        "   - relative 패키지"
      ]
    },
    {
      "cell_type": "code",
      "metadata": {
        "id": "fGBlcLGN-3pd"
      },
      "source": [
        "# ch5_03_package.py\n",
        "#\n",
        "print(\"패키지란 무엇인가?\")\n",
        "#######################################\n",
        "# 파이썬 모듈들을 모아놓은 폴더로 구성\n",
        "# 유사한 기능을 가진 모듈들을 묶어서 구성\n",
        "#######################################\n",
        "#\n",
        "# 가상의 game 패키지 예\n",
        "#\n",
        "\"\"\"\n",
        "game/\n",
        "    __init__.py\n",
        "    sound/\n",
        "        __init__.py\n",
        "        echo.py\n",
        "        wav.py\n",
        "    graphic/\n",
        "        __init__.py\n",
        "        screen.py\n",
        "        render.py\n",
        "    play/\n",
        "        __init__.py\n",
        "        run.py\n",
        "        test.py\n",
        "\"\"\"\n",
        "# game 디렉터리가 이 패키지의 루트 디렉터리이고\n",
        "# sound, graphic, play는 서브 디렉터리이다."
      ],
      "execution_count": null,
      "outputs": []
    },
    {
      "cell_type": "code",
      "metadata": {
        "colab": {
          "base_uri": "https://localhost:8080/"
        },
        "id": "aLbvKMUbhV5R",
        "outputId": "f779aa93-388f-486a-a475-c73a2c91ae64"
      },
      "source": [
        "!cd ('/content')"
      ],
      "execution_count": 9,
      "outputs": [
        {
          "output_type": "stream",
          "text": [
            "/bin/bash: -c: line 0: syntax error near unexpected token `'/content''\n",
            "/bin/bash: -c: line 0: `cd ('/content')'\n"
          ],
          "name": "stdout"
        }
      ]
    },
    {
      "cell_type": "code",
      "metadata": {
        "colab": {
          "base_uri": "https://localhost:8080/",
          "height": 35
        },
        "id": "wofXaVhAiI4l",
        "outputId": "9e8dba52-15be-4a9b-9a8b-d12f4a25403b"
      },
      "source": [
        "import os\n",
        "os.getcwd()\n",
        "# os.chdir('./content')"
      ],
      "execution_count": 10,
      "outputs": [
        {
          "output_type": "execute_result",
          "data": {
            "application/vnd.google.colaboratory.intrinsic+json": {
              "type": "string"
            },
            "text/plain": [
              "'/content'"
            ]
          },
          "metadata": {
            "tags": []
          },
          "execution_count": 10
        }
      ]
    },
    {
      "cell_type": "markdown",
      "metadata": {
        "id": "EUL4Tl4rkFZk"
      },
      "source": [
        "### 패키지 만들기\n",
        "> 패키지 기본 구성 요소 준비하기\n",
        "1. 루트폴더, 서버폴더 만들기\n",
        "2. *.py 소스파일 준비"
      ]
    },
    {
      "cell_type": "code",
      "metadata": {
        "id": "5tJmFx7IgwSd"
      },
      "source": [
        "# 1. 루트폴더, 서버폴더 만들기\n",
        "\"\"\"\n",
        "./game/__init__.py\n",
        "./game/sound/__init__.py\n",
        "./game/sound/echo.py\n",
        "./game/graphic/__init__.py\n",
        "./game/graphic/render.py\n",
        "\"\"\""
      ],
      "execution_count": null,
      "outputs": []
    },
    {
      "cell_type": "code",
      "metadata": {
        "id": "PvRsrrepj_Sa"
      },
      "source": [
        "# 2. *.py 소스파일 준비\n",
        "\"\"\"\n",
        "각 디렉터리에 __init__.py 파일을 만들어 놓기만 하고 \n",
        "내용은 일단 비워 둔다.\n",
        "# echo.py\n",
        "def echo_test():\n",
        "    print (\"echo\")\n",
        "# render.py\n",
        "def render_test():\n",
        "    print (\"render\")\n",
        "\"\"\"\n",
        "# 현재 폴더 내에 game 폴더가 포함됨.\n",
        "#\n"
      ],
      "execution_count": null,
      "outputs": []
    },
    {
      "cell_type": "markdown",
      "metadata": {
        "id": "-GtdTn-5k3jm"
      },
      "source": [
        "### 패키지 안의 함수 실행하기"
      ]
    },
    {
      "cell_type": "code",
      "metadata": {
        "colab": {
          "base_uri": "https://localhost:8080/"
        },
        "id": "PBjkUFBkkCwJ",
        "outputId": "a23dbb18-ff95-46dd-82c3-dd4d8bdec8a5"
      },
      "source": [
        "print(\"패키지 안의 함수 실행하기\")\n",
        "#######################################\n",
        "# package를 import하여 내부 함수 실행\n",
        "#######################################\n",
        "#\n",
        "# 1. echo 모듈을 import하여 실행\n",
        "import game.sound.echo\n",
        "\n",
        "game.sound.echo.echo_test()"
      ],
      "execution_count": 14,
      "outputs": [
        {
          "output_type": "stream",
          "text": [
            "패키지 안의 함수 실행하기\n",
            "echo\n"
          ],
          "name": "stdout"
        }
      ]
    },
    {
      "cell_type": "code",
      "metadata": {
        "colab": {
          "base_uri": "https://localhost:8080/"
        },
        "id": "njC87uMYlG5l",
        "outputId": "f761bd6a-102f-432c-f97c-28c43ed9ae77"
      },
      "source": [
        "# 2. echo 모듈이 있는 디렉터리까지를 from ... import하여 실행\n",
        "from game.sound import echo\n",
        "\n",
        "echo.echo_test()\n"
      ],
      "execution_count": 15,
      "outputs": [
        {
          "output_type": "stream",
          "text": [
            "echo\n"
          ],
          "name": "stdout"
        }
      ]
    },
    {
      "cell_type": "code",
      "metadata": {
        "colab": {
          "base_uri": "https://localhost:8080/"
        },
        "id": "BrBL-2UClM0i",
        "outputId": "747c1249-0d56-41c0-ee83-274c76a02dce"
      },
      "source": [
        "# 3. echo 모듈의 echo_test 함수를 직접 import하여 실행\n",
        "from game.sound.echo import echo_test\n",
        "\n",
        "echo_test()"
      ],
      "execution_count": 16,
      "outputs": [
        {
          "output_type": "stream",
          "text": [
            "echo\n"
          ],
          "name": "stdout"
        }
      ]
    },
    {
      "cell_type": "code",
      "metadata": {
        "colab": {
          "base_uri": "https://localhost:8080/"
        },
        "id": "1NkQIfqZlSjK",
        "outputId": "52ecf6a2-ecbb-4f86-a45d-5e3612a78ca3"
      },
      "source": [
        "#\n",
        "# 다음과 같이 echo_test 함수를 사용하는 것은 불가능\n",
        "import game\n",
        "\n",
        "game.sound.echo.echo_test()"
      ],
      "execution_count": 20,
      "outputs": [
        {
          "output_type": "stream",
          "text": [
            "echo\n"
          ],
          "name": "stdout"
        }
      ]
    },
    {
      "cell_type": "code",
      "metadata": {
        "colab": {
          "base_uri": "https://localhost:8080/",
          "height": 316
        },
        "id": "eCgnz8jHlgZy",
        "outputId": "cd4b7fda-f566-4040-f72f-29e1488be73b"
      },
      "source": [
        "import game.sound.echo.echo_test    # ModuleNotFoundError:"
      ],
      "execution_count": 19,
      "outputs": [
        {
          "output_type": "error",
          "ename": "ModuleNotFoundError",
          "evalue": "ignored",
          "traceback": [
            "\u001b[0;31m---------------------------------------------------------------------------\u001b[0m",
            "\u001b[0;31mModuleNotFoundError\u001b[0m                       Traceback (most recent call last)",
            "\u001b[0;32m<ipython-input-19-faef81fb9526>\u001b[0m in \u001b[0;36m<module>\u001b[0;34m()\u001b[0m\n\u001b[0;32m----> 1\u001b[0;31m \u001b[0;32mimport\u001b[0m \u001b[0mgame\u001b[0m\u001b[0;34m.\u001b[0m\u001b[0msound\u001b[0m\u001b[0;34m.\u001b[0m\u001b[0mecho\u001b[0m\u001b[0;34m.\u001b[0m\u001b[0mecho_test\u001b[0m    \u001b[0;31m# ModuleNotFoundError:\u001b[0m\u001b[0;34m\u001b[0m\u001b[0;34m\u001b[0m\u001b[0m\n\u001b[0m",
            "\u001b[0;31mModuleNotFoundError\u001b[0m: No module named 'game.sound.echo.echo_test'; 'game.sound.echo' is not a package",
            "",
            "\u001b[0;31m---------------------------------------------------------------------------\u001b[0;32m\nNOTE: If your import is failing due to a missing package, you can\nmanually install dependencies using either !pip or !apt.\n\nTo view examples of installing some common dependencies, click the\n\"Open Examples\" button below.\n\u001b[0;31m---------------------------------------------------------------------------\u001b[0m\n"
          ]
        }
      ]
    },
    {
      "cell_type": "markdown",
      "metadata": {
        "id": "IVmbjr6alx0k"
      },
      "source": [
        "### \\_\\_init\\_\\_.py 의 용도\n",
        "- \\_\\_init\\_\\_.py 파일은 해당 디렉터리가 패키지의 일부임을 알려주는 역할\n",
        "- 만약 game, sound, graphic 등 패키지에 포함된 디렉터리에 \\_\\_init\\_\\_.py 파일이 없다면 패키지로 인식되지 않는다."
      ]
    },
    {
      "cell_type": "code",
      "metadata": {
        "colab": {
          "base_uri": "https://localhost:8080/"
        },
        "id": "uZf21cOklbV0",
        "outputId": "0354bb5c-c273-45d0-a437-063e2bb4cae3"
      },
      "source": [
        "from game.sound import *\n",
        "\n",
        "echo.echo_test()"
      ],
      "execution_count": 21,
      "outputs": [
        {
          "output_type": "stream",
          "text": [
            "echo\n"
          ],
          "name": "stdout"
        }
      ]
    },
    {
      "cell_type": "markdown",
      "metadata": {
        "id": "iv7GseLSmPR0"
      },
      "source": [
        "### relative 패키지\n",
        "- 만약 graphic 디렉터리의 render.py 모듈이 sound 디렉터리의 echo.py 모듈을 사용"
      ]
    },
    {
      "cell_type": "code",
      "metadata": {
        "colab": {
          "base_uri": "https://localhost:8080/"
        },
        "id": "2M1RVBrtmIqH",
        "outputId": "03087472-b3a8-4f0c-b4b7-d82a24bb0c19"
      },
      "source": [
        "# render.py를 수정\n",
        "#######################################\n",
        "#\n",
        "from game.graphic.render import render_test\n",
        "\n",
        "render_test()"
      ],
      "execution_count": 22,
      "outputs": [
        {
          "output_type": "stream",
          "text": [
            "render\n"
          ],
          "name": "stdout"
        }
      ]
    },
    {
      "cell_type": "code",
      "metadata": {
        "id": "FEzjyPYlmd1U"
      },
      "source": [
        "# .. : parent folder\n",
        "#  . : current folder\n",
        "\"\"\"\n",
        "# render.py\n",
        "from ..sound.echo import echo_test\n",
        "def render_test():\n",
        "    print (\"render\")\n",
        "    echo_test()\n",
        "\"\"\"\n",
        "\n",
        "\n",
        "\"\"\"\n",
        "# render.py\n",
        "from game.sound.echo import echo_test\n",
        "def render_test():\n",
        "    print (\"render\")\n",
        "    echo_test()\n",
        "\"\"\"\n"
      ],
      "execution_count": null,
      "outputs": []
    },
    {
      "cell_type": "code",
      "metadata": {
        "id": "ELhT6UOjjDBq"
      },
      "source": [
        ""
      ],
      "execution_count": null,
      "outputs": []
    }
  ]
}