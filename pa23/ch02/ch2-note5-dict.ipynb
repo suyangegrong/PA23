{
 "metadata": {
  "language_info": {
   "codemirror_mode": {
    "name": "ipython",
    "version": 3
   },
   "file_extension": ".py",
   "mimetype": "text/x-python",
   "name": "python",
   "nbconvert_exporter": "python",
   "pygments_lexer": "ipython3",
   "version": "3.7.6"
  },
  "orig_nbformat": 2,
  "kernelspec": {
   "name": "python376jvsc74a57bd0426cbc92ea53937bc102f8e429b5209c43e518ec768b4e83f88f9dd5237cb044",
   "display_name": "Python 3.7.6 64-bit ('base': conda)"
  }
 },
 "nbformat": 4,
 "nbformat_minor": 2,
 "cells": [
  {
   "source": [
    "# ch2-note5-dict.ipynb by PA23\n",
    "## 딕셔너리: 딕셔너리(Dictionary)란?\n",
    "- 딕셔너리란 대응 관계를 나타내는 자료형.\n",
    "- 연관 배열(Associative array) 또는 해시(Hash)\n",
    "- 딕셔너리는 Key와 Value를 한 쌍으로 갖는 자료형\n",
    "#\n",
    "- 기본 딕셔너리의 모습\n",
    "- {Key1:Value1, Key2:Value2, Key3:Value3, ...}\n",
    "- Key와 Value의 쌍 여러 개가 { }로 둘러싸여 있다.\n",
    "- 각각의 요소는 Key : Value 형태로 이루어져 있고 쉼표(,)로 구분"
   ],
   "cell_type": "markdown",
   "metadata": {}
  },
  {
   "cell_type": "code",
   "execution_count": 3,
   "metadata": {},
   "outputs": [
    {
     "output_type": "execute_result",
     "data": {
      "text/plain": [
       "dict"
      ]
     },
     "metadata": {},
     "execution_count": 3
    }
   ],
   "source": [
    "dic = {\"name\": \"pey\", \"phone\": \"0119993323\", \"birth\": \"1118\"}\n",
    "type(dic)\n",
    "# Key는 각각 'name', 'phone', 'birth'\n",
    "# 각 Key에 해당하는 Value는 'pey', '0119993323', '1118'"
   ]
  },
  {
   "source": [
    "#### 여러 가지 딕셔너리"
   ],
   "cell_type": "markdown",
   "metadata": {}
  },
  {
   "cell_type": "code",
   "execution_count": 13,
   "metadata": {},
   "outputs": [
    {
     "output_type": "stream",
     "name": "stdout",
     "text": [
      "{1: 'hi'}\nhi\n"
     ]
    }
   ],
   "source": [
    "a = {1: \"hi\"}\n",
    "print(a)\n",
    "print(a[1])    # key로 인덱싱!"
   ]
  },
  {
   "cell_type": "code",
   "execution_count": 5,
   "metadata": {},
   "outputs": [
    {
     "output_type": "stream",
     "name": "stdout",
     "text": [
      "1\n"
     ]
    }
   ],
   "source": [
    "a = {\"a\": [1, 2, 3]}  # value에는 복합 자료형도 사용된다.\n",
    "print(len(a))   #a라는 항목을 하나로 묶기 때문에 1이된다."
   ]
  },
  {
   "cell_type": "code",
   "execution_count": 14,
   "metadata": {},
   "outputs": [
    {
     "output_type": "error",
     "ename": "TypeError",
     "evalue": "unhashable type: 'dict'",
     "traceback": [
      "\u001b[1;31m---------------------------------------------------------------------------\u001b[0m",
      "\u001b[1;31mTypeError\u001b[0m                                 Traceback (most recent call last)",
      "\u001b[1;32m<ipython-input-14-e2087b6c21ce>\u001b[0m in \u001b[0;36m<module>\u001b[1;34m\u001b[0m\n\u001b[1;32m----> 1\u001b[1;33m \u001b[0mprint\u001b[0m\u001b[1;33m(\u001b[0m\u001b[0ma\u001b[0m\u001b[1;33m[\u001b[0m\u001b[0ma\u001b[0m\u001b[1;33m]\u001b[0m\u001b[1;33m)\u001b[0m    \u001b[1;31m# TypeError # a라는 문자는 있는데 a라는 변수는 key 값에 없다.\u001b[0m\u001b[1;33m\u001b[0m\u001b[1;33m\u001b[0m\u001b[0m\n\u001b[0m",
      "\u001b[1;31mTypeError\u001b[0m: unhashable type: 'dict'"
     ]
    }
   ],
   "source": [
    "print(a[a])    # TypeError # a라는 문자는 있는데 a라는 변수는 key 값에 없다."
   ]
  },
  {
   "cell_type": "code",
   "execution_count": 7,
   "metadata": {},
   "outputs": [
    {
     "output_type": "execute_result",
     "data": {
      "text/plain": [
       "[1, 2, 3]"
      ]
     },
     "metadata": {},
     "execution_count": 7
    }
   ],
   "source": [
    "print(a[\"a\"])"
   ]
  },
  {
   "source": [
    "### 딕셔너리 쌍 추가하기"
   ],
   "cell_type": "markdown",
   "metadata": {}
  },
  {
   "cell_type": "code",
   "execution_count": 8,
   "metadata": {},
   "outputs": [
    {
     "output_type": "stream",
     "name": "stdout",
     "text": [
      "{1: 'a', 2: 'b', 'name': 'pey'}\n{1: 'a', 2: 'b', 'name': 'pey', 3: [1, 2, 3]}\n"
     ]
    }
   ],
   "source": [
    "a = {1: \"a\"}\n",
    "a[2] = \"b\"\n",
    "a[\"name\"] = \"pey\"\n",
    "print(a)\n",
    "a[3] = [1, 2, 3]\n",
    "print(a)"
   ]
  },
  {
   "source": [
    "### 딕셔너리 쌍 삭제하기"
   ],
   "cell_type": "markdown",
   "metadata": {}
  },
  {
   "cell_type": "code",
   "execution_count": 9,
   "metadata": {},
   "outputs": [
    {
     "output_type": "stream",
     "name": "stdout",
     "text": [
      "{2: 'b', 'name': 'pey', 3: [1, 2, 3]}\n"
     ]
    }
   ],
   "source": [
    "del a[1]\n",
    "print(a)"
   ]
  },
  {
   "source": [
    "## 딕셔너리: 사용 방법"
   ],
   "cell_type": "markdown",
   "metadata": {}
  },
  {
   "cell_type": "code",
   "execution_count": 11,
   "metadata": {},
   "outputs": [
    {
     "output_type": "stream",
     "name": "stdout",
     "text": [
      "{'김연아': '피겨스케이팅', '류현진': '야구', '손흥민': '축구', '귀도': '파이썬'}\n축구\n"
     ]
    }
   ],
   "source": [
    "d = {\"김연아\": \"피겨스케이팅\", \"류현진\": \"야구\", \"손흥민\": \"축구\", \"귀도\": \"파이썬\"}\n",
    "print(d)\n",
    "print(d[\"손흥민\"])"
   ]
  },
  {
   "source": [
    "### 딕셔너리에서 Key 사용해 Value 얻기"
   ],
   "cell_type": "markdown",
   "metadata": {}
  },
  {
   "cell_type": "code",
   "execution_count": 12,
   "metadata": {},
   "outputs": [
    {
     "output_type": "stream",
     "name": "stdout",
     "text": [
      "10\n99\n"
     ]
    }
   ],
   "source": [
    "grade = {\"pey\": 10, \"julliet\": 99}\n",
    "print(grade[\"pey\"])\n",
    "print(grade[\"julliet\"])"
   ]
  },
  {
   "cell_type": "code",
   "execution_count": 15,
   "metadata": {},
   "outputs": [
    {
     "output_type": "stream",
     "name": "stdout",
     "text": [
      "a\n"
     ]
    }
   ],
   "source": [
    "a = {1: \"a\", 2: \"b\"}\n",
    "print(a[1])  # 1은 key"
   ]
  },
  {
   "cell_type": "code",
   "execution_count": 16,
   "metadata": {},
   "outputs": [
    {
     "output_type": "stream",
     "name": "stdout",
     "text": [
      "2\n"
     ]
    }
   ],
   "source": [
    "a = {\"a\": 1, \"b\": 2}\n",
    "print(a[\"b\"])"
   ]
  },
  {
   "cell_type": "code",
   "execution_count": 17,
   "metadata": {},
   "outputs": [
    {
     "output_type": "error",
     "ename": "NameError",
     "evalue": "name 'b' is not defined",
     "traceback": [
      "\u001b[1;31m---------------------------------------------------------------------------\u001b[0m",
      "\u001b[1;31mNameError\u001b[0m                                 Traceback (most recent call last)",
      "\u001b[1;32m<ipython-input-17-46571e001c57>\u001b[0m in \u001b[0;36m<module>\u001b[1;34m\u001b[0m\n\u001b[1;32m----> 1\u001b[1;33m \u001b[0ma\u001b[0m\u001b[1;33m[\u001b[0m\u001b[0mb\u001b[0m\u001b[1;33m]\u001b[0m  \u001b[1;31m# TypeError   # b라는 문자를 넣은 것이 아니라 변수를 넣은 것이므로 TypeError가 났다.\u001b[0m\u001b[1;33m\u001b[0m\u001b[1;33m\u001b[0m\u001b[0m\n\u001b[0m",
      "\u001b[1;31mNameError\u001b[0m: name 'b' is not defined"
     ]
    }
   ],
   "source": [
    "a[b]  # TypeError   # b라는 문자를 넣은 것이 아니라 변수를 넣은 것이므로 TypeError가 났다."
   ]
  },
  {
   "cell_type": "code",
   "execution_count": 18,
   "metadata": {},
   "outputs": [
    {
     "output_type": "stream",
     "name": "stdout",
     "text": [
      "1118\n0109993323\n"
     ]
    }
   ],
   "source": [
    "dic = {\"name\": \"pey\", \"phone\": \"0109993323\", \"birth\": \"1118\"}\n",
    "print(dic[\"birth\"])\n",
    "print(dic[\"phone\"])"
   ]
  },
  {
   "source": [
    "- 딕셔너리 만들 때 주의할 사항\n",
    "- 딕셔너리에서 Key는 고유한 값이므로 중복되는 Key 값을 설정해 놓으면\n",
    "- 하나를 제외한 나머지 것들이 모두 무시된다"
   ],
   "cell_type": "markdown",
   "metadata": {}
  },
  {
   "cell_type": "code",
   "execution_count": 19,
   "metadata": {},
   "outputs": [
    {
     "output_type": "stream",
     "name": "stdout",
     "text": [
      "b\n"
     ]
    }
   ],
   "source": [
    "a = {1: \"a\", 1: \"b\"}\n",
    "print(a[1])"
   ]
  },
  {
   "source": [
    "## 딕셔너리: 관련 내장 함수들"
   ],
   "cell_type": "markdown",
   "metadata": {}
  },
  {
   "source": [
    "### Key 리스트 만들기(keys)"
   ],
   "cell_type": "markdown",
   "metadata": {}
  },
  {
   "cell_type": "code",
   "execution_count": 20,
   "metadata": {},
   "outputs": [
    {
     "output_type": "stream",
     "name": "stdout",
     "text": [
      "dict_keys(['name', 'phone', 'birth'])\n['name', 'phone', 'birth']\n"
     ]
    }
   ],
   "source": [
    "a = {\"name\": \"pey\", \"phone\": \"0119993323\", \"birth\": \"1118\"}\n",
    "print(a.keys())\n",
    "print(list(a.keys()))"
   ]
  },
  {
   "source": [
    "## 기본적인 반복(iterate) 구문(예: for문)을 실행"
   ],
   "cell_type": "markdown",
   "metadata": {}
  },
  {
   "cell_type": "code",
   "execution_count": 21,
   "metadata": {},
   "outputs": [
    {
     "output_type": "stream",
     "name": "stdout",
     "text": [
      "name\nphone\nbirth\n"
     ]
    }
   ],
   "source": [
    "for k in a.keys():\n",
    "    print(k)"
   ]
  },
  {
   "source": [
    "### Value 리스트 만들기(values)"
   ],
   "cell_type": "markdown",
   "metadata": {}
  },
  {
   "cell_type": "code",
   "execution_count": 28,
   "metadata": {},
   "outputs": [
    {
     "output_type": "stream",
     "name": "stdout",
     "text": [
      "dict_values(['pey', '0119993323', '1118'])\n"
     ]
    },
    {
     "output_type": "execute_result",
     "data": {
      "text/plain": [
       "['pey', '0119993323', '1118']"
      ]
     },
     "metadata": {},
     "execution_count": 28
    }
   ],
   "source": [
    "print(a.values())\n",
    "list(a.values())"
   ]
  },
  {
   "source": [
    "### Key, Value 쌍 얻기(items)"
   ],
   "cell_type": "markdown",
   "metadata": {}
  },
  {
   "cell_type": "code",
   "execution_count": 27,
   "metadata": {},
   "outputs": [
    {
     "output_type": "stream",
     "name": "stdout",
     "text": [
      "dict_items([('name', 'pey'), ('phone', '0119993323'), ('birth', '1118')])\n"
     ]
    },
    {
     "output_type": "execute_result",
     "data": {
      "text/plain": [
       "[('name', 'pey'), ('phone', '0119993323'), ('birth', '1118')]"
      ]
     },
     "metadata": {},
     "execution_count": 27
    }
   ],
   "source": [
    "a = {\"name\": \"pey\", \"phone\": \"0119993323\", \"birth\": \"1118\"}\n",
    "print(a.items())  # Key와 Value의 쌍을 튜플로 묶은 값을 dict_items 객체로 돌려준다.\n",
    "list(a.items())"
   ]
  },
  {
   "source": [
    "### Key: Value 쌍 모두 지우기(clear)"
   ],
   "cell_type": "markdown",
   "metadata": {}
  },
  {
   "cell_type": "code",
   "execution_count": 25,
   "metadata": {},
   "outputs": [
    {
     "output_type": "stream",
     "name": "stdout",
     "text": [
      "None\n{}\n"
     ]
    }
   ],
   "source": [
    "print(a.clear())\n",
    "print(a)"
   ]
  },
  {
   "source": [
    "### Key로 Value얻기(get)"
   ],
   "cell_type": "markdown",
   "metadata": {}
  },
  {
   "cell_type": "code",
   "execution_count": 29,
   "metadata": {},
   "outputs": [
    {
     "output_type": "stream",
     "name": "stdout",
     "text": [
      "pey\n0119993323\n"
     ]
    }
   ],
   "source": [
    "a = {\"name\": \"pey\", \"phone\": \"0119993323\", \"birth\": \"1118\"}\n",
    "print(a.get(\"name\"))  # a['name']\n",
    "print(a.get(\"phone\"))  # a['phone']"
   ]
  },
  {
   "cell_type": "code",
   "execution_count": 30,
   "metadata": {},
   "outputs": [
    {
     "output_type": "error",
     "ename": "KeyError",
     "evalue": "'nokey'",
     "traceback": [
      "\u001b[1;31m---------------------------------------------------------------------------\u001b[0m",
      "\u001b[1;31mKeyError\u001b[0m                                  Traceback (most recent call last)",
      "\u001b[1;32m<ipython-input-30-fea624214825>\u001b[0m in \u001b[0;36m<module>\u001b[1;34m\u001b[0m\n\u001b[1;32m----> 1\u001b[1;33m \u001b[0mprint\u001b[0m\u001b[1;33m(\u001b[0m\u001b[0ma\u001b[0m\u001b[1;33m[\u001b[0m\u001b[1;34m\"nokey\"\u001b[0m\u001b[1;33m]\u001b[0m\u001b[1;33m)\u001b[0m  \u001b[1;31m# KeyError #nokdy라는 key값이 없기 때문에 keyError가 뜸.\u001b[0m\u001b[1;33m\u001b[0m\u001b[1;33m\u001b[0m\u001b[0m\n\u001b[0m",
      "\u001b[1;31mKeyError\u001b[0m: 'nokey'"
     ]
    }
   ],
   "source": [
    "print(a[\"nokey\"])  # KeyError #nokdy라는 key값이 없기 때문에 keyError가 뜸."
   ]
  },
  {
   "source": [
    "- get(x, '디폴트 값')\n",
    "#\n",
    "- 딕셔너리 안에 찾으려는 Key 값이 없을 경우\n",
    "- 미리 정해 둔 디폴트 값을 대신 가져오게 설정."
   ],
   "cell_type": "markdown",
   "metadata": {}
  },
  {
   "cell_type": "code",
   "execution_count": 32,
   "metadata": {},
   "outputs": [
    {
     "output_type": "stream",
     "name": "stdout",
     "text": [
      "bar\npey\n"
     ]
    }
   ],
   "source": [
    "print(a.get(\"foo\", \"bar\")) # foo에 해당하는 key값이 없기 때문에 bar를 가져옴.\n",
    "print(a.get(\"name\", \"bar\")) # name에 해당하는 key값이 있기 때문에 bar가 아닌 pey를 가져옴."
   ]
  },
  {
   "source": [
    "### 해당 Key가 딕셔너리 안에 있는지 조사하기(in)"
   ],
   "cell_type": "markdown",
   "metadata": {}
  },
  {
   "cell_type": "code",
   "execution_count": 34,
   "metadata": {},
   "outputs": [
    {
     "output_type": "stream",
     "name": "stdout",
     "text": [
      "True\nFalse\n"
     ]
    }
   ],
   "source": [
    "a = {\"name\": \"pey\", \"phone\": \"0119993323\", \"birth\": \"1118\"}\n",
    "print(\"name\" in a) #name에 해당하는 key값이 있기에 true\n",
    "print(\"foo\" in a) #foo에 해당하는 key값이 없기에 false"
   ]
  }
 ]
}