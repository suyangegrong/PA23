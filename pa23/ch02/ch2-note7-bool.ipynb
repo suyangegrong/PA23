{
 "metadata": {
  "language_info": {
   "codemirror_mode": {
    "name": "ipython",
    "version": 3
   },
   "file_extension": ".py",
   "mimetype": "text/x-python",
   "name": "python",
   "nbconvert_exporter": "python",
   "pygments_lexer": "ipython3",
   "version": "3.7.6"
  },
  "orig_nbformat": 2,
  "kernelspec": {
   "name": "python376jvsc74a57bd0426cbc92ea53937bc102f8e429b5209c43e518ec768b4e83f88f9dd5237cb044",
   "display_name": "Python 3.7.6 64-bit ('base': conda)"
  }
 },
 "nbformat": 4,
 "nbformat_minor": 2,
 "cells": [
  {
   "source": [
    "## ch2-note7-bool.ipynb\n",
    "## 불: 불 자료형이란?"
   ],
   "cell_type": "markdown",
   "metadata": {}
  },
  {
   "source": [
    "- 불(bool) 자료형이란 참(True)과 거짓(False)을 나타내는 자료형이다.\n",
    "- 불 자료형은 다음 2가지 값만을 가질 수 있다.\n",
    "- True - 참\n",
    "- False - 거짓\n",
    "- True나 False는 파이썬의 예약어로 true, false와 같이 사용하지 말고\n",
    "- 첫 문자를 항상 대문자로 사용해야 한다."
   ],
   "cell_type": "markdown",
   "metadata": {}
  },
  {
   "cell_type": "code",
   "execution_count": 2,
   "metadata": {},
   "outputs": [
    {
     "output_type": "stream",
     "name": "stdout",
     "text": [
      "<class 'bool'> <class 'bool'>\n"
     ]
    }
   ],
   "source": [
    "a = True\n",
    "b = False\n",
    "print(type(a), type(b))"
   ]
  },
  {
   "source": [
    "### 참과 거짓"
   ],
   "cell_type": "markdown",
   "metadata": {}
  },
  {
   "cell_type": "code",
   "execution_count": 3,
   "metadata": {},
   "outputs": [
    {
     "output_type": "stream",
     "name": "stdout",
     "text": [
      "True\nTrue\nFalse\n2\n1\n"
     ]
    }
   ],
   "source": [
    "print(1 == 1)\n",
    "print(2 > 1)\n",
    "print(2 < 1)\n",
    "print(True + 1)\n",
    "print(False + 1)"
   ]
  },
  {
   "source": [
    "### 자료형의 참과 거짓"
   ],
   "cell_type": "markdown",
   "metadata": {}
  },
  {
   "cell_type": "code",
   "execution_count": 4,
   "metadata": {},
   "outputs": [
    {
     "output_type": "stream",
     "name": "stdout",
     "text": [
      "True\nFalse\nTrue\nTrue\nTrue\nFalse\nFalse\nFalse\nTrue\nFalse\nFalse\n"
     ]
    }
   ],
   "source": [
    "print(bool(\"python\"))\n",
    "print(bool(\"\"))\n",
    "print(bool(\" \")) # 공백도 하나의 문자이다.\n",
    "print(bool([1, 2, 3]))\n",
    "print(bool([2, 3]))\n",
    "print(bool([]))\n",
    "print(bool(()))\n",
    "print(bool({}))\n",
    "print(bool(1))\n",
    "print(bool(0))\n",
    "print(bool(None))"
   ]
  },
  {
   "source": [
    "### 불 값을 이용한 코드"
   ],
   "cell_type": "markdown",
   "metadata": {}
  },
  {
   "cell_type": "code",
   "execution_count": 5,
   "metadata": {},
   "outputs": [
    {
     "output_type": "stream",
     "name": "stdout",
     "text": [
      "[1, 2, 3, 4]\n"
     ]
    }
   ],
   "source": [
    "a = [1, 2, 3, 4]\n",
    "print(a)"
   ]
  },
  {
   "cell_type": "code",
   "execution_count": 6,
   "metadata": {},
   "outputs": [
    {
     "output_type": "stream",
     "name": "stdout",
     "text": [
      "4\n3\n2\n1\n"
     ]
    }
   ],
   "source": [
    "while a:\n",
    "    print(a.pop())"
   ]
  },
  {
   "cell_type": "code",
   "execution_count": 7,
   "metadata": {},
   "outputs": [
    {
     "output_type": "stream",
     "name": "stdout",
     "text": [
      "거짓\n"
     ]
    }
   ],
   "source": [
    "if []:\n",
    "    print(\"참\")\n",
    "else:\n",
    "    print(\"거짓\")"
   ]
  },
  {
   "source": [
    "#  Representation error\n",
    "## double precision representation of floating-point numbers"
   ],
   "cell_type": "code",
   "metadata": {},
   "execution_count": 8,
   "outputs": []
  },
  {
   "cell_type": "code",
   "execution_count": 11,
   "metadata": {},
   "outputs": [
    {
     "output_type": "stream",
     "name": "stdout",
     "text": [
      "0.09999999999999998\nFalse\n"
     ]
    }
   ],
   "source": [
    "print(1-0.9)\n",
    "print(1-0.9==.1)"
   ]
  },
  {
   "cell_type": "code",
   "execution_count": 15,
   "metadata": {},
   "outputs": [
    {
     "output_type": "stream",
     "name": "stdout",
     "text": [
      "3.140000000000000124344978758017532527446746826171875 2.7400000000000002131628207280300557613372802734375\n8.603600000000001010036498883\n"
     ]
    }
   ],
   "source": [
    "import decimal\n",
    "x=decimal.Decimal(3.14)\n",
    "y=decimal.Decimal(2.74)\n",
    "print(x,y)\n",
    "print(x*y)"
   ]
  },
  {
   "cell_type": "code",
   "execution_count": 16,
   "metadata": {},
   "outputs": [
    {
     "output_type": "stream",
     "name": "stdout",
     "text": [
      "8.604\n"
     ]
    }
   ],
   "source": [
    "decimal.getcontext().prec=4 #소수점의 4번째 자리까지 계산을 하고 5번째 자리에서 반올림해서 값을 구한다.\n",
    "print(x*y)"
   ]
  },
  {
   "cell_type": "code",
   "execution_count": 17,
   "metadata": {},
   "outputs": [
    {
     "output_type": "stream",
     "name": "stdout",
     "text": [
      "8.6\n"
     ]
    }
   ],
   "source": [
    "decimal.getcontext().prec=2\n",
    "print(x*y)"
   ]
  },
  {
   "cell_type": "code",
   "execution_count": null,
   "metadata": {},
   "outputs": [],
   "source": []
  }
 ]
}