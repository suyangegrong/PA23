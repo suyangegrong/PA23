{
  "nbformat": 4,
  "nbformat_minor": 0,
  "metadata": {
    "colab": {
      "name": "ch4_exercises_pa23_ipynb의 사본의 사본",
      "provenance": [],
      "collapsed_sections": [],
      "include_colab_link": true
    },
    "kernelspec": {
      "name": "python3",
      "display_name": "Python 3"
    }
  },
  "cells": [
    {
      "cell_type": "markdown",
      "metadata": {
        "id": "view-in-github",
        "colab_type": "text"
      },
      "source": [
        "<a href=\"https://colab.research.google.com/github/suyangegrong/PA23/blob/main/ch4/ch4_exercises_pa23_ipynb%EC%9D%98_%EC%82%AC%EB%B3%B8%EC%9D%98_%EC%82%AC%EB%B3%B8.ipynb\" target=\"_parent\"><img src=\"https://colab.research.google.com/assets/colab-badge.svg\" alt=\"Open In Colab\"/></a>"
      ]
    },
    {
      "cell_type": "markdown",
      "metadata": {
        "id": "ovY5jkD5dpxE"
      },
      "source": [
        "## ch4_exercises_pa23_ipynb"
      ]
    },
    {
      "cell_type": "markdown",
      "metadata": {
        "id": "SZw6UnxQWYBe"
      },
      "source": [
        "## Q1.\n",
        "> 주어진 자연수가 홀수인지 짝수인지 판별해 주는 함수(is_odd)를 작성해 보자.\n"
      ]
    },
    {
      "cell_type": "code",
      "metadata": {
        "id": "rUNNaqJPdg7B",
        "colab": {
          "base_uri": "https://localhost:8080/"
        },
        "outputId": "cc428ff9-df01-4c50-bdd9-3aa9c8ac6a27"
      },
      "source": [
        "def is_odd(number):\n",
        "  if number % 2 == 1: # 2로 나누었을 때 나머지가 1이면 홀수이다.\n",
        "    return True\n",
        "  else:\n",
        "    return False\n",
        "\n",
        "is_odd(3)"
      ],
      "execution_count": 2,
      "outputs": [
        {
          "output_type": "execute_result",
          "data": {
            "text/plain": [
              "True"
            ]
          },
          "metadata": {
            "tags": []
          },
          "execution_count": 2
        }
      ]
    },
    {
      "cell_type": "code",
      "metadata": {
        "colab": {
          "base_uri": "https://localhost:8080/"
        },
        "id": "oyPxZsBgaqVx",
        "outputId": "ec6f110a-c0ee-47c7-ac3d-2a59fb12c7bc"
      },
      "source": [
        "is_odd(4)"
      ],
      "execution_count": 3,
      "outputs": [
        {
          "output_type": "execute_result",
          "data": {
            "text/plain": [
              "False"
            ]
          },
          "metadata": {
            "tags": []
          },
          "execution_count": 3
        }
      ]
    },
    {
      "cell_type": "code",
      "metadata": {
        "colab": {
          "base_uri": "https://localhost:8080/"
        },
        "id": "8Tdoua2FgmzQ",
        "outputId": "a19db08b-c61b-4af3-bf47-38e73b8edb9c"
      },
      "source": [
        "is_odd = lambda x: True if x % 2 == 1 else False\n",
        "is_odd(3)"
      ],
      "execution_count": 1,
      "outputs": [
        {
          "output_type": "execute_result",
          "data": {
            "text/plain": [
              "True"
            ]
          },
          "metadata": {
            "tags": []
          },
          "execution_count": 1
        }
      ]
    },
    {
      "cell_type": "markdown",
      "metadata": {
        "id": "re2-XrUYXF1m"
      },
      "source": [
        "## Q2.\n",
        "> 입력으로 들어오는 모든 수의 평균 값을 계산해 주는 함수를 작성해 보자. \n",
        "- (단 입력으로 들어오는 수의 개수는 정해져 있지 않다.)\n",
        "- ※ 평균 값을 구할 때 len 함수를 사용해 보자.\n"
      ]
    },
    {
      "cell_type": "code",
      "metadata": {
        "id": "5MBLUZ5WXF1q",
        "colab": {
          "base_uri": "https://localhost:8080/"
        },
        "outputId": "e5c674b6-9a85-47ea-af1d-ff144ba4132b"
      },
      "source": [
        "def avg_numbers(*args): # 입력 개수에 상관없이 사용하기 위해 *args를 사용\n",
        "  result = 0\n",
        "  for i in args:\n",
        "    result += i\n",
        "  return result / len(args)\n",
        "\n",
        "avg_numbers(1,2)"
      ],
      "execution_count": 5,
      "outputs": [
        {
          "output_type": "execute_result",
          "data": {
            "text/plain": [
              "1.5"
            ]
          },
          "metadata": {
            "tags": []
          },
          "execution_count": 5
        }
      ]
    },
    {
      "cell_type": "code",
      "metadata": {
        "colab": {
          "base_uri": "https://localhost:8080/"
        },
        "id": "uQXn6pLYbS0H",
        "outputId": "b0496751-c40b-41ef-9c5b-3caeaaa7440c"
      },
      "source": [
        "avg_numbers(1,2,3,4,5)"
      ],
      "execution_count": 6,
      "outputs": [
        {
          "output_type": "execute_result",
          "data": {
            "text/plain": [
              "3.0"
            ]
          },
          "metadata": {
            "tags": []
          },
          "execution_count": 6
        }
      ]
    },
    {
      "cell_type": "markdown",
      "metadata": {
        "id": "UZy8lu_BXGnT"
      },
      "source": [
        "## Q3.\n",
        "> 다음은 두 개의 숫자를 입력받아 더하여 돌려주는 프로그램이다.\n",
        "\n",
        "```\n",
        "input1 = input(\"첫번째 숫자를 입력하세요:\")\n",
        "input2 = input(\"두번째 숫자를 입력하세요:\")\n",
        "\n",
        "total = input1 + input2\n",
        "print(\"두 수의 합은 %s 입니다\" % total)\n",
        "\n",
        "```\n",
        "---\n",
        "> 이 프로그램을 수행해 보자.\n",
        "\n",
        ">> 첫번째 숫자를 입력하세요:3  \n",
        ">> 두번째 숫자를 입력하세요:6\n",
        "- 두 수의 합은 36 입니다\n",
        "- 3과 6을 입력했을 때 9가 아닌 36이라는 결괏값을 돌려주었다.  \n",
        "이 프로그램의 오류를 수정해 보자."
      ]
    },
    {
      "cell_type": "code",
      "metadata": {
        "id": "H9T_sXHzXGnW",
        "colab": {
          "base_uri": "https://localhost:8080/"
        },
        "outputId": "e32ad214-3072-40a8-cb28-987ff63d345f"
      },
      "source": [
        "input1 = input(\"첫 번째 숫자를 입력하세요:\")\n",
        "input2 = input(\"두 번째 숫자를 입력하세요:\")\n",
        "\n",
        "total = int(input1) + int(input2) # 입력은 항상 문자열이므로 숫자로 바꾸어 주어야 한다.\n",
        "\n",
        "print(\"두 수의 합은 %s 입니다\" % total)"
      ],
      "execution_count": 7,
      "outputs": [
        {
          "output_type": "stream",
          "text": [
            "첫 번째 숫자를 입력하세요:3\n",
            "두 번째 숫자를 입력하세요:6\n",
            "두 수의 합은 9 입니다\n"
          ],
          "name": "stdout"
        }
      ]
    },
    {
      "cell_type": "markdown",
      "metadata": {
        "id": "fqypxxqTXHY7"
      },
      "source": [
        "## Q4.\n",
        "> 다음 중 출력 결과가 다른 것 한 개를 골라 보자.\n",
        "\n",
        "```\n",
        "print(\"you\" \"need\" \"python\")\n",
        "print(\"you\"+\"need\"+\"python\")\n",
        "print(\"you\", \"need\", \"python\")\n",
        "print(\"\".join([\"you\", \"need\", \"python\"]))\n",
        "```"
      ]
    },
    {
      "cell_type": "code",
      "metadata": {
        "id": "oQ5UnmayXHY-",
        "colab": {
          "base_uri": "https://localhost:8080/"
        },
        "outputId": "b2c96a2f-b0b6-460f-c1e5-e634d2ec7bec"
      },
      "source": [
        "print(\"you\" \"need\" \"python\")"
      ],
      "execution_count": 8,
      "outputs": [
        {
          "output_type": "stream",
          "text": [
            "youneedpython\n"
          ],
          "name": "stdout"
        }
      ]
    },
    {
      "cell_type": "code",
      "metadata": {
        "colab": {
          "base_uri": "https://localhost:8080/"
        },
        "id": "cD2wsyfZcude",
        "outputId": "38cc29ab-9dd6-43ce-c4ba-fdc9643ee05e"
      },
      "source": [
        "print(\"you\"+\"need\"+\"python\")"
      ],
      "execution_count": 9,
      "outputs": [
        {
          "output_type": "stream",
          "text": [
            "youneedpython\n"
          ],
          "name": "stdout"
        }
      ]
    },
    {
      "cell_type": "code",
      "metadata": {
        "colab": {
          "base_uri": "https://localhost:8080/"
        },
        "id": "UjtqpASQc475",
        "outputId": "4a89890c-39b9-4e9f-930c-79c72c7d4d3b"
      },
      "source": [
        "print(\"you\", \"need\", \"python\")  # 콤마가 있는 경우 공백이 삽입되어 더해진다."
      ],
      "execution_count": 10,
      "outputs": [
        {
          "output_type": "stream",
          "text": [
            "you need python\n"
          ],
          "name": "stdout"
        }
      ]
    },
    {
      "cell_type": "code",
      "metadata": {
        "colab": {
          "base_uri": "https://localhost:8080/"
        },
        "id": "21pd5VaAdCxS",
        "outputId": "4a587de4-9ac8-48b4-c4e1-72a62d8991b6"
      },
      "source": [
        "print(\"\".join([\"you\", \"need\", \"python\"]))"
      ],
      "execution_count": 11,
      "outputs": [
        {
          "output_type": "stream",
          "text": [
            "youneedpython\n"
          ],
          "name": "stdout"
        }
      ]
    },
    {
      "cell_type": "markdown",
      "metadata": {
        "id": "NKsvciXZXIL-"
      },
      "source": [
        "## Q5.\n",
        "> 다음은 \"test.txt\"라는 파일에 \"Life is too short\" 문자열을 저장한 후 다시 그 파일을 읽어서 출력하는 프로그램이다.\n",
        "\n",
        "```\n",
        "f1 = open(\"test.txt\", 'w')\n",
        "f1.write(\"Life is too short\")\n",
        "\n",
        "f2 = open(\"test.txt\", 'r')\n",
        "print(f2.read())\n",
        "\n",
        "```\n",
        ">> 이 프로그램은 우리가 예상한 \"Life is too short\"라는 문장을 출력하지 않는다.\n",
        "\n",
        ">> 우리가 예상한 값을 출력할 수 있도록 프로그램을 수정해 보자."
      ]
    },
    {
      "cell_type": "code",
      "metadata": {
        "id": "5MZQYOVjXIL_",
        "colab": {
          "base_uri": "https://localhost:8080/"
        },
        "outputId": "284137ee-055e-4bee-92b5-886561844fbb"
      },
      "source": [
        "with open(\"test.txt\", 'w') as f1:\n",
        "  f1.write(\"Life is too short! \")\n",
        "with open(\"test.txt\", 'r') as f2:\n",
        "  print(f2.read())"
      ],
      "execution_count": 12,
      "outputs": [
        {
          "output_type": "stream",
          "text": [
            "Life is too short! \n"
          ],
          "name": "stdout"
        }
      ]
    },
    {
      "cell_type": "markdown",
      "metadata": {
        "id": "-3KHtOOoXJBV"
      },
      "source": [
        "## Q6.\n",
        "> 사용자의 입력을 파일(test.txt)에 저장하는 프로그램을 작성해 보자. \n",
        "- (단 프로그램을 다시 실행하더라도 기존에 작성한 내용을 유지하고 새로 입력한 내용을 추가해야 한다.)\n"
      ]
    },
    {
      "cell_type": "code",
      "metadata": {
        "id": "AjYR0lUaXJBa",
        "colab": {
          "base_uri": "https://localhost:8080/"
        },
        "outputId": "d7f64887-3ba9-49cd-eba4-8f69b1b87047"
      },
      "source": [
        "user_input = input(\"저장할 내용을 입력하세요:\")\n",
        "f = open('test.txt', 'a') # 내용을 추가하기 위해서 'a'를 사용\n",
        "f.write(user_input)\n",
        "f.write(\"\\n\") # 입력된 내용을 줄 단위로 구분하기 위해 줄 바꿈 문자 삽입\n",
        "\n",
        "f.close()"
      ],
      "execution_count": 13,
      "outputs": [
        {
          "output_type": "stream",
          "text": [
            "저장할 내용을 입력하세요:pa23 박희주\n"
          ],
          "name": "stdout"
        }
      ]
    },
    {
      "cell_type": "markdown",
      "metadata": {
        "id": "YrS3b88QbmKo"
      },
      "source": [
        "## Q7.\n",
        "> 다음과 같은 내용을 지닌 파일 foo1.txt가 있다. 이 파일의 내용 중 \"java\"라는 문자열을 \"python\"으로 바꾸어서 저장해 보자.\n",
        "\n",
        ">> Life is too short  \n",
        ">> you need java\n",
        "\n",
        "- ※ replace 함수를 사용해 보자.\n"
      ]
    },
    {
      "cell_type": "code",
      "metadata": {
        "id": "Ll_2InMWbmKq"
      },
      "source": [
        "f = open('test.txt', 'r')\n",
        "body = f.read()\n",
        "f.close()\n",
        "\n",
        "body = body.replace('java', 'python')\n",
        "\n",
        "f = open('test.txt', 'w')\n",
        "f.write(body)\n",
        "\n",
        "f.close()"
      ],
      "execution_count": 15,
      "outputs": []
    },
    {
      "cell_type": "markdown",
      "metadata": {
        "id": "2ljBDShkbqZO"
      },
      "source": [
        "## 코딩 연습 결과를 github에 올리기\n",
        "> 완성된 ipython 노트북 파일을 각자의 github에 올리시오.\n",
        "\n",
        "- github 계정 만들기 (계정이 없는 학생)\n",
        "    1. github에 sign up (Google gmail 계정을 이용해서 만드시오.)\n",
        "- github에 노트 올리기\n",
        "    2. github에 각자의 id로 repo를 만드시오. (한번 만들면 계속 재사용)\n",
        "    3. github repo에 연습결과 노트를 올리시오.\n",
        "        - 제출노트: ch4_exercises_id.ipynb\n"
      ]
    }
  ]
}